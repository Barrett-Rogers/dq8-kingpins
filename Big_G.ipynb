{
 "cells": [
  {
   "cell_type": "code",
   "execution_count": 192,
   "metadata": {},
   "outputs": [],
   "source": [
    "import pandas as pd \n",
    "import numpy as np \n",
    "import sklearn "
   ]
  },
  {
   "cell_type": "code",
   "execution_count": 171,
   "metadata": {},
   "outputs": [
    {
     "name": "stderr",
     "output_type": "stream",
     "text": [
      "/opt/anaconda3/lib/python3.7/site-packages/IPython/core/interactiveshell.py:3058: DtypeWarning: Columns (15) have mixed types. Specify dtype option on import or set low_memory=False.\n",
      "  interactivity=interactivity, compiler=compiler, result=result)\n"
     ]
    }
   ],
   "source": [
    "J1939 = pd.read_csv('data/J1939Faults.csv')"
   ]
  },
  {
   "cell_type": "code",
   "execution_count": 32,
   "metadata": {},
   "outputs": [],
   "source": [
    "vehicle = pd.read_csv('data/VehicleDiagnosticOnboardData.csv')"
   ]
  },
  {
   "cell_type": "code",
   "execution_count": 38,
   "metadata": {},
   "outputs": [],
   "source": [
    "codes = pd.read_excel('data/Service Fault Codes_1_0_0_167.xlsx')"
   ]
  },
  {
   "cell_type": "code",
   "execution_count": 33,
   "metadata": {},
   "outputs": [
    {
     "data": {
      "text/plain": [
       "(1187335, 20)"
      ]
     },
     "execution_count": 33,
     "metadata": {},
     "output_type": "execute_result"
    }
   ],
   "source": [
    "J1939.shape"
   ]
  },
  {
   "cell_type": "code",
   "execution_count": 34,
   "metadata": {},
   "outputs": [
    {
     "data": {
      "text/plain": [
       "(12821626, 4)"
      ]
     },
     "execution_count": 34,
     "metadata": {},
     "output_type": "execute_result"
    }
   ],
   "source": [
    "vehicle.shape"
   ]
  },
  {
   "cell_type": "code",
   "execution_count": 36,
   "metadata": {},
   "outputs": [],
   "source": [
    "J1939 = J1939.drop(columns = ['actionDescription', 'ecuSoftwareVersion', 'ecuSerialNumber', 'faultValue', 'ecuModel', 'ecuMake'])"
   ]
  },
  {
   "cell_type": "code",
   "execution_count": null,
   "metadata": {},
   "outputs": [],
   "source": [
    "codes.drop(columns = ['Published in CES 14602'])"
   ]
  },
  {
   "cell_type": "code",
   "execution_count": 40,
   "metadata": {},
   "outputs": [],
   "source": [
    "\n",
    "# merge on RecordID and FaultId\n"
   ]
  },
  {
   "cell_type": "code",
   "execution_count": 41,
   "metadata": {},
   "outputs": [],
   "source": [
    "# SPN 5246 is bad "
   ]
  },
  {
   "cell_type": "code",
   "execution_count": 42,
   "metadata": {},
   "outputs": [],
   "source": [
    "faults_onboard = pd.merge(left = J1939, right = vehicle, left_on = 'RecordID', right_on = 'FaultId', how = 'inner')"
   ]
  },
  {
   "cell_type": "code",
   "execution_count": 44,
   "metadata": {},
   "outputs": [
    {
     "data": {
      "text/plain": [
       "(12821626, 18)"
      ]
     },
     "execution_count": 44,
     "metadata": {},
     "output_type": "execute_result"
    }
   ],
   "source": [
    "faults_onboard.shape"
   ]
  },
  {
   "cell_type": "code",
   "execution_count": 45,
   "metadata": {},
   "outputs": [],
   "source": [
    "# filter down to failure rates and get truck ids and then we can try to make a function \n",
    "# to figure out what the codes were right before the failure \n",
    "# filter the SPNs and get the equipment ID "
   ]
  },
  {
   "cell_type": "code",
   "execution_count": 76,
   "metadata": {},
   "outputs": [
    {
     "data": {
      "text/plain": [
       "array(['1721', '1515', '1630', '1395', '1487', '1499', '1329', '1365',\n",
       "       '1419', '1486', '1509', '1492', '1340', '1328', '1430', '1370',\n",
       "       '1497', '1350', '1608', '1606', '1612', '1354', '1493', '1583',\n",
       "       '1465', '1335', '1789', 1340, 1383, 1389, 1501, 1335, 1438, 1463,\n",
       "       1606, 1514, 1666, 1689, 1692, 1357, 1396, 310, 1602, 1660, 1445,\n",
       "       1431, 105393153, 1327, 1795, 1399, 1494, 1367, 1364, 1452, 1595,\n",
       "       1740, 1366, 1339, 1425, 1358, 1646, 1391, 1428, 1338, 1637, 1346,\n",
       "       1490, 1562, 1433, 1663, 1417, 1424, 1771, 1790, 1591, 1797, 1596,\n",
       "       1421, 1444, 1480, 1493, 1466, 1457, 105360462, 1794, 1492, 1696,\n",
       "       1703, 1626, 1715, 1437, 1453, 1584, 1597, 1610, 1377, 1652,\n",
       "       105411041, 1517, 1784, 1751, 1786, 1590, 1341, 1382, 1714, 1430,\n",
       "       1711, 1369, 1398, 1791, 1772, 1472, 1473, 1418, 1645, 1475, 1815,\n",
       "       1806, 1607, 1560, 1450, 1401, 1572, 1630, 1375, 1368, 1650, 1443,\n",
       "       1495, 1670, 1587, 1778, 1566, 1789, 1617, 1691, 1573, 1477, 1476,\n",
       "       1395, 1441, 1405, 1577, 1447, 1659, 1408, 1439, 1403, 1458, 1668,\n",
       "       1814, 1567, 1583, 1373, 1446, 1700, 1629, 1730, 1665, 1381, 1551,\n",
       "       1413, 1643, 1508, 1440, 1486, 1455, 1844, 1571, 1429, 1491, 1803,\n",
       "       1467, 1378, 1608, 1488, 1739, 1448, 1420, 1384, 1683, 1372, 1502,\n",
       "       1582, 1464, 1599, 1712, 1407, 1603, 1644, 1757, 1618, 1604, 1519,\n",
       "       1831, 1631, 1811, 1628, 1818, 1423, 1636, 1555, 1719, 1638, 1710,\n",
       "       1823, 1435, 1808, 1392, 1669, 1649, 1579, 1416, 1575, 1397, 1510,\n",
       "       1813, 1601, 1419, 1657, 1621, 1651, 1620, 105359197, 1708, 1592,\n",
       "       1613, 1619, 1925, 1887, 1662, 1640, 1881, 1563, 1713, 1557, 1839,\n",
       "       1833, 1605, 1513, 1639, 1866, 1485, 1581, 1549, 1776, 308, 1586,\n",
       "       1661, 1635, 1907, 1853, 1785, 1594, 1859, 1600, 1963, 1848, 1918,\n",
       "       1561, 1796, 1624, 105338352, 1598, 1972, 1706, 1641, 1874, 1940,\n",
       "       1609, 1642, 1506, 1552, 1685, 1883, 1946, 1913, 1920, 1634, 1995,\n",
       "       1512, 1878, 1564, 1686, 1554, 1505, 1802, 1612, 1788, 1868, 1807,\n",
       "       1688, 1922, 1903, 1681, 1904, 1615, 1828, 1694, 1559, 1827, 1842,\n",
       "       1720, 1970, 1877, 1888, 1989, 1932, 1804, 1854, 1851, 1565, 1981,\n",
       "       1741, 1980, 1737, 1580, 1924, 1822, 1766, 1812, 1917, 1933, 1817,\n",
       "       1654, 1731, 2017, 2008, 1726, 1717, 1656, 1835, 1664, 1880, 1916,\n",
       "       1996, 1912, 1947, 1997, 1736, 1820, 1729, 1864, 1556, 1898, 1884,\n",
       "       1832, 1705, 1585, 1908, 1752, 1623, 1800, 1732, 1725, 1845, 1876,\n",
       "       1576, 1897, 1647, 1931, 1971, 1852, 1697, 1959, 1953, 1787, 1962,\n",
       "       1893, 2015, 2019, 1957, 1593, 1965, 1873, 1911, 1934, 1942, 1982,\n",
       "       1900, 2009, 1948, 1723, 2006, 1956, 2012, 1836, 1935, 307, 1879,\n",
       "       1792, 1865, 1885, 1690, 1793, 1860, 1894, 1856, 1704, 1614, 1655,\n",
       "       1667, 1632, 1699, 1687, 1625, 1871, 1750, 1611, 2013, 1939, 1886,\n",
       "       1999, 1819, 1901, 1821, 1847, 1701, 1588, 1838, 1849, 1775, 1743,\n",
       "       1952, 1988, 1716, 1862, 2011, 1863, 1622, 2004, 1764, 1905, 1698,\n",
       "       1846, 309, 1798, 1780, 1762, 1979, 2007, 1919, 1966, 1843, 1938,\n",
       "       105427203, 1744, 1992, 1976, 1926, 1718, 1899, '1965', '1978',\n",
       "       '1874', '1932', '1689', '1792', '1763', '1870', '1725', '1935',\n",
       "       '1843', '1996', '1963', '1712', '1731', '1889', '1794', '1726',\n",
       "       '1691', '1897', '1920', '105349576', '1715', '310', '1942', '1845',\n",
       "       '1729', '1823', '1690', '1994', '1901', '2027', '1967', '1706',\n",
       "       '1962', '1947', '1798', '1928', '1946', '1885', '1716', '1921',\n",
       "       '1775', '1860', '1891', '1790', '1734', '1945', '1878', '1877',\n",
       "       '1952', '1972', '1849', '1717', '2010', '306', 306, 1951, 1768,\n",
       "       1781, 1763, 2002, 1728, 1721, 1869, 1735, 1964, 1858, 1758, 1958,\n",
       "       2120, 1756, 1944, 105344451, 1927, 2005, 1889, 1709, 1914, 2020,\n",
       "       1872, 1975, 1857, 1733, 2010, 1734, 1961, 1954, 1985, 1824,\n",
       "       105349576, 1993, 1895, 1906, 2018, 1977, 1834, 1930, 1928, 1969,\n",
       "       1991, 1994, 1984, 1967, 1949, 1896, 1891, 1950, 1855, 2000, 1986,\n",
       "       1945, 1782, 1937, 2021, 1943, 1968, 1909, 1829, 1861], dtype=object)"
      ]
     },
     "execution_count": 76,
     "metadata": {},
     "output_type": "execute_result"
    }
   ],
   "source": [
    "df1569 = faults_onboard[faults_onboard['spn'] == 1569]\n",
    "df1569.EquipmentID.unique()"
   ]
  },
  {
   "cell_type": "code",
   "execution_count": 53,
   "metadata": {},
   "outputs": [
    {
     "data": {
      "text/plain": [
       "(114321, 18)"
      ]
     },
     "execution_count": 53,
     "metadata": {},
     "output_type": "execute_result"
    }
   ],
   "source": [
    "df1569.shape"
   ]
  },
  {
   "cell_type": "code",
   "execution_count": 54,
   "metadata": {},
   "outputs": [
    {
     "data": {
      "text/plain": [
       "(114321, 18)"
      ]
     },
     "execution_count": 54,
     "metadata": {},
     "output_type": "execute_result"
    }
   ],
   "source": [
    "df1569[df1569['fmi'] == 31].shape"
   ]
  },
  {
   "cell_type": "code",
   "execution_count": 50,
   "metadata": {},
   "outputs": [
    {
     "data": {
      "text/plain": [
       "1927"
      ]
     },
     "execution_count": 50,
     "metadata": {},
     "output_type": "execute_result"
    }
   ],
   "source": [
    "faults_onboard.EquipmentID.nunique()"
   ]
  },
  {
   "cell_type": "code",
   "execution_count": 60,
   "metadata": {},
   "outputs": [
    {
     "data": {
      "text/plain": [
       "'2000-03-19 14:02:34.000'"
      ]
     },
     "execution_count": 60,
     "metadata": {},
     "output_type": "execute_result"
    }
   ],
   "source": [
    "df1569.EventTimeStamp.min()"
   ]
  },
  {
   "cell_type": "code",
   "execution_count": 61,
   "metadata": {},
   "outputs": [
    {
     "data": {
      "text/plain": [
       "'2020-03-06 14:04:23.000'"
      ]
     },
     "execution_count": 61,
     "metadata": {},
     "output_type": "execute_result"
    }
   ],
   "source": [
    "df1569.EventTimeStamp.max()"
   ]
  },
  {
   "cell_type": "code",
   "execution_count": 62,
   "metadata": {},
   "outputs": [
    {
     "data": {
      "text/plain": [
       "'2000-03-18 19:14:10.000'"
      ]
     },
     "execution_count": 62,
     "metadata": {},
     "output_type": "execute_result"
    }
   ],
   "source": [
    "faults_onboard.EventTimeStamp.min()"
   ]
  },
  {
   "cell_type": "code",
   "execution_count": null,
   "metadata": {},
   "outputs": [],
   "source": [
    "#cdf1569.groupby('EquipmentID')\n",
    "\n",
    "\n",
    "# if spn ==. , look at EqId, get it, bring in the other rows "
   ]
  },
  {
   "cell_type": "code",
   "execution_count": 82,
   "metadata": {},
   "outputs": [
    {
     "data": {
      "text/plain": [
       "dtype('O')"
      ]
     },
     "execution_count": 82,
     "metadata": {},
     "output_type": "execute_result"
    }
   ],
   "source": [
    "faults_onboard.EquipmentID.dtype"
   ]
  },
  {
   "cell_type": "code",
   "execution_count": 93,
   "metadata": {},
   "outputs": [
    {
     "data": {
      "text/plain": [
       "'2015-02-21 10:47:13.000'"
      ]
     },
     "execution_count": 93,
     "metadata": {},
     "output_type": "execute_result"
    }
   ],
   "source": [
    "faults_onboard.EventTimeStamp.iloc[1]"
   ]
  },
  {
   "cell_type": "code",
   "execution_count": 107,
   "metadata": {},
   "outputs": [
    {
     "name": "stdout",
     "output_type": "stream",
     "text": [
      "<class 'pandas.core.frame.DataFrame'>\n",
      "Int64Index: 12821626 entries, 0 to 12821625\n",
      "Data columns (total 18 columns):\n",
      "RecordID                 int64\n",
      "ESS_Id                   int64\n",
      "EventTimeStamp           object\n",
      "eventDescription         object\n",
      "ecuSource                int64\n",
      "spn                      int64\n",
      "fmi                      int64\n",
      "active                   bool\n",
      "activeTransitionCount    int64\n",
      "EquipmentID              object\n",
      "MCTNumber                int64\n",
      "Latitude                 float64\n",
      "Longitude                float64\n",
      "LocationTimeStamp        object\n",
      "Id                       int64\n",
      "Name                     object\n",
      "Value                    object\n",
      "FaultId                  int64\n",
      "dtypes: bool(1), float64(2), int64(9), object(6)\n",
      "memory usage: 2.0+ GB\n"
     ]
    }
   ],
   "source": [
    "faults_onboard.info()"
   ]
  },
  {
   "cell_type": "code",
   "execution_count": 125,
   "metadata": {},
   "outputs": [],
   "source": [
    "# Dalila's code: \n",
    "\n",
    "failure_error_2 = faults_onboard.spn.isin([5246])\n",
    "\n",
    "failure_error = faults_onboard.spn.isin([1569]) & faults_onboard.fmi.isin([31])\n",
    "\n",
    "all_failures = failure_error_2 | failure_error\n",
    "\n",
    "failed_trucks = faults_onboard[all_failures].EquipmentID.astype(str).unique()\n",
    "\n",
    "failed_truck_df = faults_onboard[faults_onboard.EquipmentID.isin(failed_trucks)]"
   ]
  },
  {
   "cell_type": "code",
   "execution_count": 126,
   "metadata": {},
   "outputs": [
    {
     "data": {
      "text/html": [
       "<div>\n",
       "<style scoped>\n",
       "    .dataframe tbody tr th:only-of-type {\n",
       "        vertical-align: middle;\n",
       "    }\n",
       "\n",
       "    .dataframe tbody tr th {\n",
       "        vertical-align: top;\n",
       "    }\n",
       "\n",
       "    .dataframe thead th {\n",
       "        text-align: right;\n",
       "    }\n",
       "</style>\n",
       "<table border=\"1\" class=\"dataframe\">\n",
       "  <thead>\n",
       "    <tr style=\"text-align: right;\">\n",
       "      <th></th>\n",
       "      <th>RecordID</th>\n",
       "      <th>ESS_Id</th>\n",
       "      <th>EventTimeStamp</th>\n",
       "      <th>eventDescription</th>\n",
       "      <th>ecuSource</th>\n",
       "      <th>spn</th>\n",
       "      <th>fmi</th>\n",
       "      <th>active</th>\n",
       "      <th>activeTransitionCount</th>\n",
       "      <th>EquipmentID</th>\n",
       "      <th>MCTNumber</th>\n",
       "      <th>Latitude</th>\n",
       "      <th>Longitude</th>\n",
       "      <th>LocationTimeStamp</th>\n",
       "      <th>Id</th>\n",
       "      <th>Name</th>\n",
       "      <th>Value</th>\n",
       "      <th>FaultId</th>\n",
       "    </tr>\n",
       "  </thead>\n",
       "  <tbody>\n",
       "    <tr>\n",
       "      <td>140</td>\n",
       "      <td>20</td>\n",
       "      <td>990544</td>\n",
       "      <td>2015-02-21 11:18:20.000</td>\n",
       "      <td>High Voltage (Fuel Level)</td>\n",
       "      <td>49</td>\n",
       "      <td>96</td>\n",
       "      <td>3</td>\n",
       "      <td>True</td>\n",
       "      <td>126</td>\n",
       "      <td>310</td>\n",
       "      <td>105442984</td>\n",
       "      <td>35.485787</td>\n",
       "      <td>-86.466712</td>\n",
       "      <td>2015-02-21 11:47:32.000</td>\n",
       "      <td>141</td>\n",
       "      <td>Throttle</td>\n",
       "      <td>0</td>\n",
       "      <td>20</td>\n",
       "    </tr>\n",
       "    <tr>\n",
       "      <td>141</td>\n",
       "      <td>20</td>\n",
       "      <td>990544</td>\n",
       "      <td>2015-02-21 11:18:20.000</td>\n",
       "      <td>High Voltage (Fuel Level)</td>\n",
       "      <td>49</td>\n",
       "      <td>96</td>\n",
       "      <td>3</td>\n",
       "      <td>True</td>\n",
       "      <td>126</td>\n",
       "      <td>310</td>\n",
       "      <td>105442984</td>\n",
       "      <td>35.485787</td>\n",
       "      <td>-86.466712</td>\n",
       "      <td>2015-02-21 11:47:32.000</td>\n",
       "      <td>142</td>\n",
       "      <td>IgnStatus</td>\n",
       "      <td>True</td>\n",
       "      <td>20</td>\n",
       "    </tr>\n",
       "    <tr>\n",
       "      <td>142</td>\n",
       "      <td>20</td>\n",
       "      <td>990544</td>\n",
       "      <td>2015-02-21 11:18:20.000</td>\n",
       "      <td>High Voltage (Fuel Level)</td>\n",
       "      <td>49</td>\n",
       "      <td>96</td>\n",
       "      <td>3</td>\n",
       "      <td>True</td>\n",
       "      <td>126</td>\n",
       "      <td>310</td>\n",
       "      <td>105442984</td>\n",
       "      <td>35.485787</td>\n",
       "      <td>-86.466712</td>\n",
       "      <td>2015-02-21 11:47:32.000</td>\n",
       "      <td>143</td>\n",
       "      <td>EngineOilPressure</td>\n",
       "      <td>28.42</td>\n",
       "      <td>20</td>\n",
       "    </tr>\n",
       "    <tr>\n",
       "      <td>143</td>\n",
       "      <td>20</td>\n",
       "      <td>990544</td>\n",
       "      <td>2015-02-21 11:18:20.000</td>\n",
       "      <td>High Voltage (Fuel Level)</td>\n",
       "      <td>49</td>\n",
       "      <td>96</td>\n",
       "      <td>3</td>\n",
       "      <td>True</td>\n",
       "      <td>126</td>\n",
       "      <td>310</td>\n",
       "      <td>105442984</td>\n",
       "      <td>35.485787</td>\n",
       "      <td>-86.466712</td>\n",
       "      <td>2015-02-21 11:47:32.000</td>\n",
       "      <td>144</td>\n",
       "      <td>EngineOilTemperature</td>\n",
       "      <td>192.1438</td>\n",
       "      <td>20</td>\n",
       "    </tr>\n",
       "    <tr>\n",
       "      <td>144</td>\n",
       "      <td>20</td>\n",
       "      <td>990544</td>\n",
       "      <td>2015-02-21 11:18:20.000</td>\n",
       "      <td>High Voltage (Fuel Level)</td>\n",
       "      <td>49</td>\n",
       "      <td>96</td>\n",
       "      <td>3</td>\n",
       "      <td>True</td>\n",
       "      <td>126</td>\n",
       "      <td>310</td>\n",
       "      <td>105442984</td>\n",
       "      <td>35.485787</td>\n",
       "      <td>-86.466712</td>\n",
       "      <td>2015-02-21 11:47:32.000</td>\n",
       "      <td>145</td>\n",
       "      <td>FuelTemperature</td>\n",
       "      <td>32</td>\n",
       "      <td>20</td>\n",
       "    </tr>\n",
       "    <tr>\n",
       "      <td>...</td>\n",
       "      <td>...</td>\n",
       "      <td>...</td>\n",
       "      <td>...</td>\n",
       "      <td>...</td>\n",
       "      <td>...</td>\n",
       "      <td>...</td>\n",
       "      <td>...</td>\n",
       "      <td>...</td>\n",
       "      <td>...</td>\n",
       "      <td>...</td>\n",
       "      <td>...</td>\n",
       "      <td>...</td>\n",
       "      <td>...</td>\n",
       "      <td>...</td>\n",
       "      <td>...</td>\n",
       "      <td>...</td>\n",
       "      <td>...</td>\n",
       "      <td>...</td>\n",
       "    </tr>\n",
       "    <tr>\n",
       "      <td>10898196</td>\n",
       "      <td>1053024</td>\n",
       "      <td>60660684</td>\n",
       "      <td>2018-09-05 09:01:08.000</td>\n",
       "      <td>Incorrect Data J1939 Network #1 Primary Vehicl...</td>\n",
       "      <td>11</td>\n",
       "      <td>639</td>\n",
       "      <td>2</td>\n",
       "      <td>True</td>\n",
       "      <td>127</td>\n",
       "      <td>105344451</td>\n",
       "      <td>105344451</td>\n",
       "      <td>39.899120</td>\n",
       "      <td>-82.020046</td>\n",
       "      <td>2018-09-05 09:01:44.000</td>\n",
       "      <td>10923927</td>\n",
       "      <td>CruiseControlActive</td>\n",
       "      <td>False</td>\n",
       "      <td>1053024</td>\n",
       "    </tr>\n",
       "    <tr>\n",
       "      <td>10898197</td>\n",
       "      <td>1053024</td>\n",
       "      <td>60660684</td>\n",
       "      <td>2018-09-05 09:01:08.000</td>\n",
       "      <td>Incorrect Data J1939 Network #1 Primary Vehicl...</td>\n",
       "      <td>11</td>\n",
       "      <td>639</td>\n",
       "      <td>2</td>\n",
       "      <td>True</td>\n",
       "      <td>127</td>\n",
       "      <td>105344451</td>\n",
       "      <td>105344451</td>\n",
       "      <td>39.899120</td>\n",
       "      <td>-82.020046</td>\n",
       "      <td>2018-09-05 09:01:44.000</td>\n",
       "      <td>10923928</td>\n",
       "      <td>EngineCoolantTemperature</td>\n",
       "      <td>185</td>\n",
       "      <td>1053024</td>\n",
       "    </tr>\n",
       "    <tr>\n",
       "      <td>10898198</td>\n",
       "      <td>1053024</td>\n",
       "      <td>60660684</td>\n",
       "      <td>2018-09-05 09:01:08.000</td>\n",
       "      <td>Incorrect Data J1939 Network #1 Primary Vehicl...</td>\n",
       "      <td>11</td>\n",
       "      <td>639</td>\n",
       "      <td>2</td>\n",
       "      <td>True</td>\n",
       "      <td>127</td>\n",
       "      <td>105344451</td>\n",
       "      <td>105344451</td>\n",
       "      <td>39.899120</td>\n",
       "      <td>-82.020046</td>\n",
       "      <td>2018-09-05 09:01:44.000</td>\n",
       "      <td>10923929</td>\n",
       "      <td>ParkingBrake</td>\n",
       "      <td>False</td>\n",
       "      <td>1053024</td>\n",
       "    </tr>\n",
       "    <tr>\n",
       "      <td>10898199</td>\n",
       "      <td>1053024</td>\n",
       "      <td>60660684</td>\n",
       "      <td>2018-09-05 09:01:08.000</td>\n",
       "      <td>Incorrect Data J1939 Network #1 Primary Vehicl...</td>\n",
       "      <td>11</td>\n",
       "      <td>639</td>\n",
       "      <td>2</td>\n",
       "      <td>True</td>\n",
       "      <td>127</td>\n",
       "      <td>105344451</td>\n",
       "      <td>105344451</td>\n",
       "      <td>39.899120</td>\n",
       "      <td>-82.020046</td>\n",
       "      <td>2018-09-05 09:01:44.000</td>\n",
       "      <td>10923930</td>\n",
       "      <td>DistanceLtd</td>\n",
       "      <td>482313</td>\n",
       "      <td>1053024</td>\n",
       "    </tr>\n",
       "    <tr>\n",
       "      <td>10898407</td>\n",
       "      <td>1053045</td>\n",
       "      <td>60670335</td>\n",
       "      <td>2018-09-05 10:11:15.000</td>\n",
       "      <td>Incorrect Data J1939 Network #1 Primary Vehicl...</td>\n",
       "      <td>11</td>\n",
       "      <td>639</td>\n",
       "      <td>2</td>\n",
       "      <td>False</td>\n",
       "      <td>127</td>\n",
       "      <td>105344451</td>\n",
       "      <td>105344451</td>\n",
       "      <td>39.939583</td>\n",
       "      <td>-82.028796</td>\n",
       "      <td>2018-09-05 10:11:10.000</td>\n",
       "      <td>10924138</td>\n",
       "      <td>LampStatus</td>\n",
       "      <td>255</td>\n",
       "      <td>1053045</td>\n",
       "    </tr>\n",
       "  </tbody>\n",
       "</table>\n",
       "<p>508980 rows × 18 columns</p>\n",
       "</div>"
      ],
      "text/plain": [
       "          RecordID    ESS_Id           EventTimeStamp  \\\n",
       "140             20    990544  2015-02-21 11:18:20.000   \n",
       "141             20    990544  2015-02-21 11:18:20.000   \n",
       "142             20    990544  2015-02-21 11:18:20.000   \n",
       "143             20    990544  2015-02-21 11:18:20.000   \n",
       "144             20    990544  2015-02-21 11:18:20.000   \n",
       "...            ...       ...                      ...   \n",
       "10898196   1053024  60660684  2018-09-05 09:01:08.000   \n",
       "10898197   1053024  60660684  2018-09-05 09:01:08.000   \n",
       "10898198   1053024  60660684  2018-09-05 09:01:08.000   \n",
       "10898199   1053024  60660684  2018-09-05 09:01:08.000   \n",
       "10898407   1053045  60670335  2018-09-05 10:11:15.000   \n",
       "\n",
       "                                           eventDescription  ecuSource  spn  \\\n",
       "140                               High Voltage (Fuel Level)         49   96   \n",
       "141                               High Voltage (Fuel Level)         49   96   \n",
       "142                               High Voltage (Fuel Level)         49   96   \n",
       "143                               High Voltage (Fuel Level)         49   96   \n",
       "144                               High Voltage (Fuel Level)         49   96   \n",
       "...                                                     ...        ...  ...   \n",
       "10898196  Incorrect Data J1939 Network #1 Primary Vehicl...         11  639   \n",
       "10898197  Incorrect Data J1939 Network #1 Primary Vehicl...         11  639   \n",
       "10898198  Incorrect Data J1939 Network #1 Primary Vehicl...         11  639   \n",
       "10898199  Incorrect Data J1939 Network #1 Primary Vehicl...         11  639   \n",
       "10898407  Incorrect Data J1939 Network #1 Primary Vehicl...         11  639   \n",
       "\n",
       "          fmi  active  activeTransitionCount EquipmentID  MCTNumber  \\\n",
       "140         3    True                    126         310  105442984   \n",
       "141         3    True                    126         310  105442984   \n",
       "142         3    True                    126         310  105442984   \n",
       "143         3    True                    126         310  105442984   \n",
       "144         3    True                    126         310  105442984   \n",
       "...       ...     ...                    ...         ...        ...   \n",
       "10898196    2    True                    127   105344451  105344451   \n",
       "10898197    2    True                    127   105344451  105344451   \n",
       "10898198    2    True                    127   105344451  105344451   \n",
       "10898199    2    True                    127   105344451  105344451   \n",
       "10898407    2   False                    127   105344451  105344451   \n",
       "\n",
       "           Latitude  Longitude        LocationTimeStamp        Id  \\\n",
       "140       35.485787 -86.466712  2015-02-21 11:47:32.000       141   \n",
       "141       35.485787 -86.466712  2015-02-21 11:47:32.000       142   \n",
       "142       35.485787 -86.466712  2015-02-21 11:47:32.000       143   \n",
       "143       35.485787 -86.466712  2015-02-21 11:47:32.000       144   \n",
       "144       35.485787 -86.466712  2015-02-21 11:47:32.000       145   \n",
       "...             ...        ...                      ...       ...   \n",
       "10898196  39.899120 -82.020046  2018-09-05 09:01:44.000  10923927   \n",
       "10898197  39.899120 -82.020046  2018-09-05 09:01:44.000  10923928   \n",
       "10898198  39.899120 -82.020046  2018-09-05 09:01:44.000  10923929   \n",
       "10898199  39.899120 -82.020046  2018-09-05 09:01:44.000  10923930   \n",
       "10898407  39.939583 -82.028796  2018-09-05 10:11:10.000  10924138   \n",
       "\n",
       "                              Name     Value  FaultId  \n",
       "140                       Throttle         0       20  \n",
       "141                      IgnStatus      True       20  \n",
       "142              EngineOilPressure     28.42       20  \n",
       "143           EngineOilTemperature  192.1438       20  \n",
       "144                FuelTemperature        32       20  \n",
       "...                            ...       ...      ...  \n",
       "10898196       CruiseControlActive     False  1053024  \n",
       "10898197  EngineCoolantTemperature       185  1053024  \n",
       "10898198              ParkingBrake     False  1053024  \n",
       "10898199               DistanceLtd    482313  1053024  \n",
       "10898407                LampStatus       255  1053045  \n",
       "\n",
       "[508980 rows x 18 columns]"
      ]
     },
     "execution_count": 126,
     "metadata": {},
     "output_type": "execute_result"
    }
   ],
   "source": [
    "failed_truck_df = failed_truck_df.sort_values([\"EquipmentID\", \"EventTimeStamp\"], ascending = (False, True))\n",
    "failed_truck_df.head()"
   ]
  },
  {
   "cell_type": "code",
   "execution_count": 127,
   "metadata": {},
   "outputs": [],
   "source": [
    "failed_truck_df['EventTimeStamp'] = pd.to_datetime(failed_truck_df['EventTimeStamp'])\n",
    "failed_truck_df['Year'] = pd.DatetimeIndex(failed_truck_df['EventTimeStamp']).year\n",
    "failed_truck_df['Month'] = pd.DatetimeIndex(failed_truck_df['EventTimeStamp']).month"
   ]
  },
  {
   "cell_type": "markdown",
   "metadata": {},
   "source": [
    "1) Delete rows with shop address\n",
    "\n",
    "2)  Deal with the duplicates -- maybe use J1939\n",
    "\n",
    "3)  Find the codes just before the derate codes \n",
    "\n",
    "4)  k nearest neighbors"
   ]
  },
  {
   "cell_type": "markdown",
   "metadata": {},
   "source": [
    "Here are the locations of the shop facilities:\n",
    "\n",
    "193 Aldi Blvd, Mt Juliet, TN: 36.0666667, -86.4347222\n",
    "\n",
    "137 Eady Road – Bell Buckle, TN: 35.5883333, -86.4438888\n",
    "\n",
    "5754 Fish Hatchery Road – Russellville, TN: 36.1950, -83.174722"
   ]
  },
  {
   "cell_type": "code",
   "execution_count": 132,
   "metadata": {},
   "outputs": [],
   "source": [
    "# round both columns \n",
    "\n",
    "failed_truck_df['Lat_Round'] = failed_truck_df.Latitude.round(3)\n",
    "failed_truck_df['Long_Round'] = failed_truck_df.Longitude.round(3)"
   ]
  },
  {
   "cell_type": "code",
   "execution_count": 135,
   "metadata": {},
   "outputs": [],
   "source": [
    "failed_truck_df = failed_truck_df[~failed_truck_df.Lat_Round.isin([36.066, 36.067, 35.588, 35.589, 36.195, 36.196])]\n",
    "\n",
    "failed_truck_df = failed_truck_df[~failed_truck_df.Long_Round.isin([-86.434, -86.435, -86.443, -86.444, -83.174, -83.175])]"
   ]
  },
  {
   "cell_type": "code",
   "execution_count": 140,
   "metadata": {},
   "outputs": [],
   "source": [
    "\n",
    "\n",
    "# Hari said we should go for rolling windows \n",
    "\n"
   ]
  },
  {
   "cell_type": "markdown",
   "metadata": {},
   "source": [
    "diabetes_rolling=diabetes.groupby('patient_nbr').rolling(window='365D', on='admit_date').encounter_id.count()\\\n",
    "                .reset_index().rename(columns = {'encounter_id':'number_inpatient_visit'})"
   ]
  },
  {
   "cell_type": "code",
   "execution_count": 141,
   "metadata": {},
   "outputs": [],
   "source": [
    "# faults_CMMNS_onboard_drop.loc[faults_CMMNS_onboard_drop['active'] == True, 'active'] = 1\n",
    "\n",
    "# faults_CMMNS_onboard_drop.loc[(faults_CMMNS_onboard_drop['SPN'] == 5246) & (faults_CMMNS_onboard_drop['J1939 FMI'] == 0), 'derate'] = 1"
   ]
  },
  {
   "cell_type": "code",
   "execution_count": 166,
   "metadata": {},
   "outputs": [],
   "source": [
    "# target_var = failed_truck_df.loc[(failed_truck_df['spn'] == 5246) & (failed_truck_df['fmi'] == 0), 'Derate'] = 1"
   ]
  },
  {
   "cell_type": "code",
   "execution_count": 179,
   "metadata": {},
   "outputs": [],
   "source": [
    "J1939.loc[J1939['spn'] == 5246, 'target'] = 1\n",
    "J1939.loc[J1939['spn'] != 5246, 'target'] = 0\n",
    "J1939.loc[J1939['spn'] == 1569, 'target'] = 1\n",
    "J1939.loc[J1939['spn'] != 1569, 'target'] = 0"
   ]
  },
  {
   "cell_type": "code",
   "execution_count": 184,
   "metadata": {},
   "outputs": [
    {
     "data": {
      "text/html": [
       "<div>\n",
       "<style scoped>\n",
       "    .dataframe tbody tr th:only-of-type {\n",
       "        vertical-align: middle;\n",
       "    }\n",
       "\n",
       "    .dataframe tbody tr th {\n",
       "        vertical-align: top;\n",
       "    }\n",
       "\n",
       "    .dataframe thead th {\n",
       "        text-align: right;\n",
       "    }\n",
       "</style>\n",
       "<table border=\"1\" class=\"dataframe\">\n",
       "  <thead>\n",
       "    <tr style=\"text-align: right;\">\n",
       "      <th></th>\n",
       "      <th>RecordID</th>\n",
       "      <th>ESS_Id</th>\n",
       "      <th>EventTimeStamp</th>\n",
       "      <th>eventDescription</th>\n",
       "      <th>actionDescription</th>\n",
       "      <th>ecuSoftwareVersion</th>\n",
       "      <th>ecuSerialNumber</th>\n",
       "      <th>ecuModel</th>\n",
       "      <th>ecuMake</th>\n",
       "      <th>ecuSource</th>\n",
       "      <th>spn</th>\n",
       "      <th>fmi</th>\n",
       "      <th>active</th>\n",
       "      <th>activeTransitionCount</th>\n",
       "      <th>faultValue</th>\n",
       "      <th>EquipmentID</th>\n",
       "      <th>MCTNumber</th>\n",
       "      <th>Latitude</th>\n",
       "      <th>Longitude</th>\n",
       "      <th>LocationTimeStamp</th>\n",
       "      <th>target</th>\n",
       "    </tr>\n",
       "  </thead>\n",
       "  <tbody>\n",
       "    <tr>\n",
       "      <td>40</td>\n",
       "      <td>41</td>\n",
       "      <td>990856</td>\n",
       "      <td>2015-02-21 12:06:22.000</td>\n",
       "      <td>Condition Exists Engine Protection Torque Derate</td>\n",
       "      <td>NaN</td>\n",
       "      <td>05317106*04047493*092613211021*09300006*G1*BDR*</td>\n",
       "      <td>79723635</td>\n",
       "      <td>6X1u13D1500000000</td>\n",
       "      <td>CMMNS</td>\n",
       "      <td>0</td>\n",
       "      <td>1569</td>\n",
       "      <td>31</td>\n",
       "      <td>True</td>\n",
       "      <td>5</td>\n",
       "      <td>NaN</td>\n",
       "      <td>1721</td>\n",
       "      <td>105439606</td>\n",
       "      <td>39.051805</td>\n",
       "      <td>-84.560509</td>\n",
       "      <td>2015-02-21 12:06:57.000</td>\n",
       "      <td>1.0</td>\n",
       "    </tr>\n",
       "    <tr>\n",
       "      <td>249</td>\n",
       "      <td>250</td>\n",
       "      <td>993542</td>\n",
       "      <td>2015-02-21 15:01:49.000</td>\n",
       "      <td>Condition Exists Engine Protection Torque Derate</td>\n",
       "      <td>NaN</td>\n",
       "      <td>05317106*04047493*092613211021*09300006*G1*BDR*</td>\n",
       "      <td>79723635</td>\n",
       "      <td>6X1u13D1500000000</td>\n",
       "      <td>CMMNS</td>\n",
       "      <td>0</td>\n",
       "      <td>1569</td>\n",
       "      <td>31</td>\n",
       "      <td>False</td>\n",
       "      <td>5</td>\n",
       "      <td>NaN</td>\n",
       "      <td>1721</td>\n",
       "      <td>105439606</td>\n",
       "      <td>38.113240</td>\n",
       "      <td>-85.667361</td>\n",
       "      <td>2015-02-21 15:01:45.000</td>\n",
       "      <td>1.0</td>\n",
       "    </tr>\n",
       "    <tr>\n",
       "      <td>290</td>\n",
       "      <td>291</td>\n",
       "      <td>994045</td>\n",
       "      <td>2015-02-21 15:35:45.000</td>\n",
       "      <td>Condition Exists Engine Protection Torque Derate</td>\n",
       "      <td>NaN</td>\n",
       "      <td>05317106*04047493*092613211021*09300006*G1*BDR*</td>\n",
       "      <td>79723635</td>\n",
       "      <td>6X1u13D1500000000</td>\n",
       "      <td>CMMNS</td>\n",
       "      <td>0</td>\n",
       "      <td>1569</td>\n",
       "      <td>31</td>\n",
       "      <td>True</td>\n",
       "      <td>6</td>\n",
       "      <td>NaN</td>\n",
       "      <td>1721</td>\n",
       "      <td>105439606</td>\n",
       "      <td>37.735185</td>\n",
       "      <td>-85.808101</td>\n",
       "      <td>2015-02-21 15:36:21.000</td>\n",
       "      <td>1.0</td>\n",
       "    </tr>\n",
       "    <tr>\n",
       "      <td>306</td>\n",
       "      <td>307</td>\n",
       "      <td>994237</td>\n",
       "      <td>2015-02-21 15:51:58.000</td>\n",
       "      <td>Condition Exists Engine Protection Torque Derate</td>\n",
       "      <td>NaN</td>\n",
       "      <td>05317106*04047493*092613211021*09300006*G1*BDR*</td>\n",
       "      <td>79723635</td>\n",
       "      <td>6X1u13D1500000000</td>\n",
       "      <td>CMMNS</td>\n",
       "      <td>0</td>\n",
       "      <td>1569</td>\n",
       "      <td>31</td>\n",
       "      <td>False</td>\n",
       "      <td>6</td>\n",
       "      <td>NaN</td>\n",
       "      <td>1721</td>\n",
       "      <td>105439606</td>\n",
       "      <td>37.540370</td>\n",
       "      <td>-85.880972</td>\n",
       "      <td>2015-02-21 15:51:54.000</td>\n",
       "      <td>1.0</td>\n",
       "    </tr>\n",
       "    <tr>\n",
       "      <td>340</td>\n",
       "      <td>341</td>\n",
       "      <td>994680</td>\n",
       "      <td>2015-02-21 16:22:24.000</td>\n",
       "      <td>Condition Exists Engine Protection Torque Derate</td>\n",
       "      <td>NaN</td>\n",
       "      <td>05317106*04047493*092613211021*09300006*G1*BDR*</td>\n",
       "      <td>79723635</td>\n",
       "      <td>6X1u13D1500000000</td>\n",
       "      <td>CMMNS</td>\n",
       "      <td>0</td>\n",
       "      <td>1569</td>\n",
       "      <td>31</td>\n",
       "      <td>True</td>\n",
       "      <td>7</td>\n",
       "      <td>NaN</td>\n",
       "      <td>1721</td>\n",
       "      <td>105439606</td>\n",
       "      <td>37.166666</td>\n",
       "      <td>-85.964027</td>\n",
       "      <td>2015-02-21 16:23:00.000</td>\n",
       "      <td>1.0</td>\n",
       "    </tr>\n",
       "  </tbody>\n",
       "</table>\n",
       "</div>"
      ],
      "text/plain": [
       "     RecordID  ESS_Id           EventTimeStamp  \\\n",
       "40         41  990856  2015-02-21 12:06:22.000   \n",
       "249       250  993542  2015-02-21 15:01:49.000   \n",
       "290       291  994045  2015-02-21 15:35:45.000   \n",
       "306       307  994237  2015-02-21 15:51:58.000   \n",
       "340       341  994680  2015-02-21 16:22:24.000   \n",
       "\n",
       "                                     eventDescription  actionDescription  \\\n",
       "40   Condition Exists Engine Protection Torque Derate                NaN   \n",
       "249  Condition Exists Engine Protection Torque Derate                NaN   \n",
       "290  Condition Exists Engine Protection Torque Derate                NaN   \n",
       "306  Condition Exists Engine Protection Torque Derate                NaN   \n",
       "340  Condition Exists Engine Protection Torque Derate                NaN   \n",
       "\n",
       "                                  ecuSoftwareVersion ecuSerialNumber  \\\n",
       "40   05317106*04047493*092613211021*09300006*G1*BDR*        79723635   \n",
       "249  05317106*04047493*092613211021*09300006*G1*BDR*        79723635   \n",
       "290  05317106*04047493*092613211021*09300006*G1*BDR*        79723635   \n",
       "306  05317106*04047493*092613211021*09300006*G1*BDR*        79723635   \n",
       "340  05317106*04047493*092613211021*09300006*G1*BDR*        79723635   \n",
       "\n",
       "              ecuModel ecuMake  ecuSource   spn  fmi  active  \\\n",
       "40   6X1u13D1500000000   CMMNS          0  1569   31    True   \n",
       "249  6X1u13D1500000000   CMMNS          0  1569   31   False   \n",
       "290  6X1u13D1500000000   CMMNS          0  1569   31    True   \n",
       "306  6X1u13D1500000000   CMMNS          0  1569   31   False   \n",
       "340  6X1u13D1500000000   CMMNS          0  1569   31    True   \n",
       "\n",
       "     activeTransitionCount  faultValue EquipmentID  MCTNumber   Latitude  \\\n",
       "40                       5         NaN        1721  105439606  39.051805   \n",
       "249                      5         NaN        1721  105439606  38.113240   \n",
       "290                      6         NaN        1721  105439606  37.735185   \n",
       "306                      6         NaN        1721  105439606  37.540370   \n",
       "340                      7         NaN        1721  105439606  37.166666   \n",
       "\n",
       "     Longitude        LocationTimeStamp  target  \n",
       "40  -84.560509  2015-02-21 12:06:57.000     1.0  \n",
       "249 -85.667361  2015-02-21 15:01:45.000     1.0  \n",
       "290 -85.808101  2015-02-21 15:36:21.000     1.0  \n",
       "306 -85.880972  2015-02-21 15:51:54.000     1.0  \n",
       "340 -85.964027  2015-02-21 16:23:00.000     1.0  "
      ]
     },
     "execution_count": 184,
     "metadata": {},
     "output_type": "execute_result"
    }
   ],
   "source": [
    "pd.set_option('display.max_columns', None)\n",
    "J1939[J1939.target == 1].head()"
   ]
  },
  {
   "cell_type": "code",
   "execution_count": 185,
   "metadata": {},
   "outputs": [],
   "source": [
    "failed_truck_df.loc[failed_truck_df['spn'] == 5246, 'target'] = 1\n",
    "failed_truck_df.loc[failed_truck_df['spn'] != 5246, 'target'] = 0\n",
    "failed_truck_df.loc[failed_truck_df['spn'] == 1569, 'target'] = 1\n",
    "failed_truck_df.loc[failed_truck_df['spn'] != 1569, 'target'] = 0"
   ]
  },
  {
   "cell_type": "code",
   "execution_count": 217,
   "metadata": {},
   "outputs": [
    {
     "name": "stderr",
     "output_type": "stream",
     "text": [
      "/opt/anaconda3/lib/python3.7/site-packages/ipykernel_launcher.py:2: SettingWithCopyWarning: \n",
      "A value is trying to be set on a copy of a slice from a DataFrame.\n",
      "Try using .loc[row_indexer,col_indexer] = value instead\n",
      "\n",
      "See the caveats in the documentation: http://pandas.pydata.org/pandas-docs/stable/user_guide/indexing.html#returning-a-view-versus-a-copy\n",
      "  \n"
     ]
    }
   ],
   "source": [
    "truck_310 = faults_onboard[faults_onboard.EquipmentID.isin([310])]\n",
    "truck_310['EventTimeStamp'] = pd.to_datetime(truck_310['EventTimeStamp'])\n",
    "#truck_310['Year'] = pd.DatetimeIndex(truck_310['EventTimeStamp']).year\n",
    "#truck_310['Month'] = pd.DatetimeIndex(truck_310['EventTimeStamp']).month"
   ]
  },
  {
   "cell_type": "code",
   "execution_count": 189,
   "metadata": {},
   "outputs": [],
   "source": [
    "# First find a way to apply the search to one truck, see if it works and then do a for loop\n",
    "# over J1939. "
   ]
  },
  {
   "cell_type": "code",
   "execution_count": 215,
   "metadata": {},
   "outputs": [
    {
     "name": "stdout",
     "output_type": "stream",
     "text": [
      "<class 'pandas.core.frame.DataFrame'>\n",
      "Int64Index: 12548 entries, 487727 to 12684110\n",
      "Data columns (total 20 columns):\n",
      "RecordID                 12548 non-null int64\n",
      "ESS_Id                   12548 non-null int64\n",
      "EventTimeStamp           12548 non-null datetime64[ns]\n",
      "eventDescription         12396 non-null object\n",
      "ecuSource                12548 non-null int64\n",
      "spn                      12548 non-null int64\n",
      "fmi                      12548 non-null int64\n",
      "active                   12548 non-null bool\n",
      "activeTransitionCount    12548 non-null int64\n",
      "EquipmentID              12548 non-null object\n",
      "MCTNumber                12548 non-null int64\n",
      "Latitude                 12548 non-null float64\n",
      "Longitude                12548 non-null float64\n",
      "LocationTimeStamp        12548 non-null object\n",
      "Id                       12548 non-null int64\n",
      "Name                     12548 non-null object\n",
      "Value                    12548 non-null object\n",
      "FaultId                  12548 non-null int64\n",
      "Year                     12548 non-null int64\n",
      "Month                    12548 non-null int64\n",
      "dtypes: bool(1), datetime64[ns](1), float64(2), int64(11), object(5)\n",
      "memory usage: 1.9+ MB\n"
     ]
    }
   ],
   "source": [
    "truck_310.info()"
   ]
  },
  {
   "cell_type": "code",
   "execution_count": 216,
   "metadata": {},
   "outputs": [
    {
     "name": "stderr",
     "output_type": "stream",
     "text": [
      "/opt/anaconda3/lib/python3.7/site-packages/ipykernel_launcher.py:1: SettingWithCopyWarning: \n",
      "A value is trying to be set on a copy of a slice from a DataFrame.\n",
      "Try using .loc[row_indexer,col_indexer] = value instead\n",
      "\n",
      "See the caveats in the documentation: http://pandas.pydata.org/pandas-docs/stable/user_guide/indexing.html#returning-a-view-versus-a-copy\n",
      "  \"\"\"Entry point for launching an IPython kernel.\n",
      "/opt/anaconda3/lib/python3.7/site-packages/ipykernel_launcher.py:2: SettingWithCopyWarning: \n",
      "A value is trying to be set on a copy of a slice from a DataFrame.\n",
      "Try using .loc[row_indexer,col_indexer] = value instead\n",
      "\n",
      "See the caveats in the documentation: http://pandas.pydata.org/pandas-docs/stable/user_guide/indexing.html#returning-a-view-versus-a-copy\n",
      "  \n",
      "/opt/anaconda3/lib/python3.7/site-packages/ipykernel_launcher.py:3: SettingWithCopyWarning: \n",
      "A value is trying to be set on a copy of a slice from a DataFrame.\n",
      "Try using .loc[row_indexer,col_indexer] = value instead\n",
      "\n",
      "See the caveats in the documentation: http://pandas.pydata.org/pandas-docs/stable/user_guide/indexing.html#returning-a-view-versus-a-copy\n",
      "  This is separate from the ipykernel package so we can avoid doing imports until\n",
      "/opt/anaconda3/lib/python3.7/site-packages/ipykernel_launcher.py:4: SettingWithCopyWarning: \n",
      "A value is trying to be set on a copy of a slice from a DataFrame.\n",
      "Try using .loc[row_indexer,col_indexer] = value instead\n",
      "\n",
      "See the caveats in the documentation: http://pandas.pydata.org/pandas-docs/stable/user_guide/indexing.html#returning-a-view-versus-a-copy\n",
      "  after removing the cwd from sys.path.\n"
     ]
    }
   ],
   "source": [
    "truck_310['hour'] = truck_310['EventTimeStamp'].dt.hour\n",
    "truck_310['day'] = truck_310['EventTimeStamp'].dt.day\n",
    "truck_310['month'] = truck_310['EventTimeStamp'].dt.month\n",
    "truck_310['Year'] = truck_310['EventTimeStamp'].dt.year"
   ]
  },
  {
   "cell_type": "code",
   "execution_count": 218,
   "metadata": {},
   "outputs": [
    {
     "data": {
      "text/html": [
       "<div>\n",
       "<style scoped>\n",
       "    .dataframe tbody tr th:only-of-type {\n",
       "        vertical-align: middle;\n",
       "    }\n",
       "\n",
       "    .dataframe tbody tr th {\n",
       "        vertical-align: top;\n",
       "    }\n",
       "\n",
       "    .dataframe thead th {\n",
       "        text-align: right;\n",
       "    }\n",
       "</style>\n",
       "<table border=\"1\" class=\"dataframe\">\n",
       "  <thead>\n",
       "    <tr style=\"text-align: right;\">\n",
       "      <th></th>\n",
       "      <th>RecordID</th>\n",
       "      <th>ESS_Id</th>\n",
       "      <th>EventTimeStamp</th>\n",
       "      <th>eventDescription</th>\n",
       "      <th>ecuSource</th>\n",
       "      <th>spn</th>\n",
       "      <th>fmi</th>\n",
       "      <th>active</th>\n",
       "      <th>activeTransitionCount</th>\n",
       "      <th>EquipmentID</th>\n",
       "      <th>MCTNumber</th>\n",
       "      <th>Latitude</th>\n",
       "      <th>Longitude</th>\n",
       "      <th>LocationTimeStamp</th>\n",
       "      <th>Id</th>\n",
       "      <th>Name</th>\n",
       "      <th>Value</th>\n",
       "      <th>FaultId</th>\n",
       "    </tr>\n",
       "  </thead>\n",
       "  <tbody>\n",
       "    <tr>\n",
       "      <td>487727</td>\n",
       "      <td>49403</td>\n",
       "      <td>2362799</td>\n",
       "      <td>2015-05-11 12:52:51</td>\n",
       "      <td>Condition Exists Engine Protection Torque Derate</td>\n",
       "      <td>0</td>\n",
       "      <td>1569</td>\n",
       "      <td>31</td>\n",
       "      <td>True</td>\n",
       "      <td>126</td>\n",
       "      <td>310</td>\n",
       "      <td>105442984</td>\n",
       "      <td>35.264259</td>\n",
       "      <td>-86.398425</td>\n",
       "      <td>2015-05-11 12:55:27.000</td>\n",
       "      <td>488970</td>\n",
       "      <td>IgnStatus</td>\n",
       "      <td>False</td>\n",
       "      <td>49403</td>\n",
       "    </tr>\n",
       "    <tr>\n",
       "      <td>487728</td>\n",
       "      <td>49403</td>\n",
       "      <td>2362799</td>\n",
       "      <td>2015-05-11 12:52:51</td>\n",
       "      <td>Condition Exists Engine Protection Torque Derate</td>\n",
       "      <td>0</td>\n",
       "      <td>1569</td>\n",
       "      <td>31</td>\n",
       "      <td>True</td>\n",
       "      <td>126</td>\n",
       "      <td>310</td>\n",
       "      <td>105442984</td>\n",
       "      <td>35.264259</td>\n",
       "      <td>-86.398425</td>\n",
       "      <td>2015-05-11 12:55:27.000</td>\n",
       "      <td>488971</td>\n",
       "      <td>LampStatus</td>\n",
       "      <td>2047</td>\n",
       "      <td>49403</td>\n",
       "    </tr>\n",
       "    <tr>\n",
       "      <td>487729</td>\n",
       "      <td>49404</td>\n",
       "      <td>2362808</td>\n",
       "      <td>2015-05-11 12:56:19</td>\n",
       "      <td>Condition Exists Engine Protection Torque Derate</td>\n",
       "      <td>0</td>\n",
       "      <td>1569</td>\n",
       "      <td>31</td>\n",
       "      <td>False</td>\n",
       "      <td>126</td>\n",
       "      <td>310</td>\n",
       "      <td>105442984</td>\n",
       "      <td>35.264259</td>\n",
       "      <td>-86.398425</td>\n",
       "      <td>2015-05-11 12:56:14.000</td>\n",
       "      <td>488972</td>\n",
       "      <td>LampStatus</td>\n",
       "      <td>1023</td>\n",
       "      <td>49404</td>\n",
       "    </tr>\n",
       "    <tr>\n",
       "      <td>496759</td>\n",
       "      <td>50415</td>\n",
       "      <td>2382785</td>\n",
       "      <td>2015-05-12 11:34:48</td>\n",
       "      <td>High (Severity Medium) J1939 Network #2</td>\n",
       "      <td>49</td>\n",
       "      <td>1231</td>\n",
       "      <td>16</td>\n",
       "      <td>True</td>\n",
       "      <td>4</td>\n",
       "      <td>310</td>\n",
       "      <td>105442984</td>\n",
       "      <td>35.262916</td>\n",
       "      <td>-86.396250</td>\n",
       "      <td>2015-05-12 11:35:24.000</td>\n",
       "      <td>498002</td>\n",
       "      <td>Throttle</td>\n",
       "      <td>0</td>\n",
       "      <td>50415</td>\n",
       "    </tr>\n",
       "    <tr>\n",
       "      <td>496760</td>\n",
       "      <td>50415</td>\n",
       "      <td>2382785</td>\n",
       "      <td>2015-05-12 11:34:48</td>\n",
       "      <td>High (Severity Medium) J1939 Network #2</td>\n",
       "      <td>49</td>\n",
       "      <td>1231</td>\n",
       "      <td>16</td>\n",
       "      <td>True</td>\n",
       "      <td>4</td>\n",
       "      <td>310</td>\n",
       "      <td>105442984</td>\n",
       "      <td>35.262916</td>\n",
       "      <td>-86.396250</td>\n",
       "      <td>2015-05-12 11:35:24.000</td>\n",
       "      <td>498003</td>\n",
       "      <td>IgnStatus</td>\n",
       "      <td>True</td>\n",
       "      <td>50415</td>\n",
       "    </tr>\n",
       "  </tbody>\n",
       "</table>\n",
       "</div>"
      ],
      "text/plain": [
       "        RecordID   ESS_Id      EventTimeStamp  \\\n",
       "487727     49403  2362799 2015-05-11 12:52:51   \n",
       "487728     49403  2362799 2015-05-11 12:52:51   \n",
       "487729     49404  2362808 2015-05-11 12:56:19   \n",
       "496759     50415  2382785 2015-05-12 11:34:48   \n",
       "496760     50415  2382785 2015-05-12 11:34:48   \n",
       "\n",
       "                                        eventDescription  ecuSource   spn  \\\n",
       "487727  Condition Exists Engine Protection Torque Derate          0  1569   \n",
       "487728  Condition Exists Engine Protection Torque Derate          0  1569   \n",
       "487729  Condition Exists Engine Protection Torque Derate          0  1569   \n",
       "496759           High (Severity Medium) J1939 Network #2         49  1231   \n",
       "496760           High (Severity Medium) J1939 Network #2         49  1231   \n",
       "\n",
       "        fmi  active  activeTransitionCount EquipmentID  MCTNumber   Latitude  \\\n",
       "487727   31    True                    126         310  105442984  35.264259   \n",
       "487728   31    True                    126         310  105442984  35.264259   \n",
       "487729   31   False                    126         310  105442984  35.264259   \n",
       "496759   16    True                      4         310  105442984  35.262916   \n",
       "496760   16    True                      4         310  105442984  35.262916   \n",
       "\n",
       "        Longitude        LocationTimeStamp      Id        Name  Value  FaultId  \n",
       "487727 -86.398425  2015-05-11 12:55:27.000  488970   IgnStatus  False    49403  \n",
       "487728 -86.398425  2015-05-11 12:55:27.000  488971  LampStatus   2047    49403  \n",
       "487729 -86.398425  2015-05-11 12:56:14.000  488972  LampStatus   1023    49404  \n",
       "496759 -86.396250  2015-05-12 11:35:24.000  498002    Throttle      0    50415  \n",
       "496760 -86.396250  2015-05-12 11:35:24.000  498003   IgnStatus   True    50415  "
      ]
     },
     "execution_count": 218,
     "metadata": {},
     "output_type": "execute_result"
    }
   ],
   "source": [
    "truck_310.head()"
   ]
  },
  {
   "cell_type": "code",
   "execution_count": 213,
   "metadata": {},
   "outputs": [
    {
     "data": {
      "text/plain": [
       "Period('0001-01-01 12:52:51', 'S')"
      ]
     },
     "execution_count": 213,
     "metadata": {},
     "output_type": "execute_result"
    }
   ],
   "source": [
    "pd.Period(value = '12:52:51.000', hour = 6)"
   ]
  },
  {
   "cell_type": "markdown",
   "metadata": {},
   "source": [
    "# Messing Around"
   ]
  },
  {
   "cell_type": "code",
   "execution_count": 78,
   "metadata": {},
   "outputs": [
    {
     "ename": "SyntaxError",
     "evalue": "invalid syntax (<ipython-input-78-428cbcdb837b>, line 5)",
     "output_type": "error",
     "traceback": [
      "\u001b[0;36m  File \u001b[0;32m\"<ipython-input-78-428cbcdb837b>\"\u001b[0;36m, line \u001b[0;32m5\u001b[0m\n\u001b[0;31m    if group.isin(1569|5246)\u001b[0m\n\u001b[0m                            ^\u001b[0m\n\u001b[0;31mSyntaxError\u001b[0m\u001b[0;31m:\u001b[0m invalid syntax\n"
     ]
    }
   ],
   "source": [
    "for x in range: \n",
    "    group = faults_onboard[faults_onboard.EquipmentID == x]\n",
    "    \n",
    "    def prev_code(): \n",
    "        if faults_onboard.spn.isin([1569|5246])\n",
    "        \n",
    "        return group.spn.index -1"
   ]
  },
  {
   "cell_type": "code",
   "execution_count": null,
   "metadata": {},
   "outputs": [],
   "source": [
    "from sklearn.neighbors import KNeighborsClassifier\n",
    "neigh = KNeighborsClassifier(n_neighbors=3)\n",
    "neigh.fit(data.iloc[:,0:4], data['Name'])\n",
    "\n",
    "# Predicted class\n",
    "print(neigh.predict(test))\n",
    "\n",
    "-> ['Iris-virginica']\n",
    "\n",
    "# 3 nearest neighbors\n",
    "print(neigh.kneighbors(test)[1])\n",
    "-> [[141 139 120]]\n",
    "\n"
   ]
  },
  {
   "cell_type": "code",
   "execution_count": 186,
   "metadata": {},
   "outputs": [
    {
     "name": "stderr",
     "output_type": "stream",
     "text": [
      "UsageError: Line magic function `%paste` not found.\n"
     ]
    }
   ],
   "source": [
    "%paste\n",
    "def is_even(num):\n",
    "  return num % 2 == 0\n",
    "is_even(10) # True\n"
   ]
  },
  {
   "cell_type": "code",
   "execution_count": 188,
   "metadata": {},
   "outputs": [],
   "source": [
    "%magic"
   ]
  },
  {
   "cell_type": "code",
   "execution_count": null,
   "metadata": {},
   "outputs": [],
   "source": []
  }
 ],
 "metadata": {
  "kernelspec": {
   "display_name": "Python 3",
   "language": "python",
   "name": "python3"
  },
  "language_info": {
   "codemirror_mode": {
    "name": "ipython",
    "version": 3
   },
   "file_extension": ".py",
   "mimetype": "text/x-python",
   "name": "python",
   "nbconvert_exporter": "python",
   "pygments_lexer": "ipython3",
   "version": "3.7.4"
  }
 },
 "nbformat": 4,
 "nbformat_minor": 2
}
