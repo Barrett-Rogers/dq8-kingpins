{
 "cells": [
  {
   "cell_type": "code",
   "execution_count": 1,
   "metadata": {},
   "outputs": [],
   "source": [
    "import pandas as pd \n",
    "import numpy as np \n",
    "import sklearn "
   ]
  },
  {
   "cell_type": "code",
   "execution_count": 31,
   "metadata": {},
   "outputs": [],
   "source": [
    "J1939 = pd.read_csv('data/J1939Faults.csv')"
   ]
  },
  {
   "cell_type": "code",
   "execution_count": 32,
   "metadata": {},
   "outputs": [],
   "source": [
    "vehicle = pd.read_csv('data/VehicleDiagnosticOnboardData.csv')"
   ]
  },
  {
   "cell_type": "code",
   "execution_count": 33,
   "metadata": {},
   "outputs": [
    {
     "data": {
      "text/plain": [
       "(1187335, 20)"
      ]
     },
     "execution_count": 33,
     "metadata": {},
     "output_type": "execute_result"
    }
   ],
   "source": [
    "J1939.shape"
   ]
  },
  {
   "cell_type": "code",
   "execution_count": 34,
   "metadata": {},
   "outputs": [
    {
     "data": {
      "text/plain": [
       "(12821626, 4)"
      ]
     },
     "execution_count": 34,
     "metadata": {},
     "output_type": "execute_result"
    }
   ],
   "source": [
    "vehicle.shape"
   ]
  },
  {
   "cell_type": "code",
   "execution_count": 35,
   "metadata": {},
   "outputs": [
    {
     "data": {
      "text/html": [
       "<div>\n",
       "<style scoped>\n",
       "    .dataframe tbody tr th:only-of-type {\n",
       "        vertical-align: middle;\n",
       "    }\n",
       "\n",
       "    .dataframe tbody tr th {\n",
       "        vertical-align: top;\n",
       "    }\n",
       "\n",
       "    .dataframe thead th {\n",
       "        text-align: right;\n",
       "    }\n",
       "</style>\n",
       "<table border=\"1\" class=\"dataframe\">\n",
       "  <thead>\n",
       "    <tr style=\"text-align: right;\">\n",
       "      <th></th>\n",
       "      <th>RecordID</th>\n",
       "      <th>ESS_Id</th>\n",
       "      <th>EventTimeStamp</th>\n",
       "      <th>eventDescription</th>\n",
       "      <th>actionDescription</th>\n",
       "      <th>ecuSoftwareVersion</th>\n",
       "      <th>ecuSerialNumber</th>\n",
       "      <th>ecuModel</th>\n",
       "      <th>ecuMake</th>\n",
       "      <th>ecuSource</th>\n",
       "      <th>spn</th>\n",
       "      <th>fmi</th>\n",
       "      <th>active</th>\n",
       "      <th>activeTransitionCount</th>\n",
       "      <th>faultValue</th>\n",
       "      <th>EquipmentID</th>\n",
       "      <th>MCTNumber</th>\n",
       "      <th>Latitude</th>\n",
       "      <th>Longitude</th>\n",
       "      <th>LocationTimeStamp</th>\n",
       "    </tr>\n",
       "  </thead>\n",
       "  <tbody>\n",
       "    <tr>\n",
       "      <td>0</td>\n",
       "      <td>1</td>\n",
       "      <td>990349</td>\n",
       "      <td>2015-02-21 10:47:13.000</td>\n",
       "      <td>Low (Severity Low) Engine Coolant Level</td>\n",
       "      <td>NaN</td>\n",
       "      <td>unknown</td>\n",
       "      <td>unknown</td>\n",
       "      <td>unknown</td>\n",
       "      <td>unknown</td>\n",
       "      <td>0</td>\n",
       "      <td>111</td>\n",
       "      <td>17</td>\n",
       "      <td>True</td>\n",
       "      <td>2</td>\n",
       "      <td>NaN</td>\n",
       "      <td>1439</td>\n",
       "      <td>105354361</td>\n",
       "      <td>38.857638</td>\n",
       "      <td>-84.626851</td>\n",
       "      <td>2015-02-21 11:34:25.000</td>\n",
       "    </tr>\n",
       "    <tr>\n",
       "      <td>1</td>\n",
       "      <td>2</td>\n",
       "      <td>990360</td>\n",
       "      <td>2015-02-21 11:34:34.000</td>\n",
       "      <td>NaN</td>\n",
       "      <td>NaN</td>\n",
       "      <td>unknown</td>\n",
       "      <td>unknown</td>\n",
       "      <td>unknown</td>\n",
       "      <td>unknown</td>\n",
       "      <td>11</td>\n",
       "      <td>629</td>\n",
       "      <td>12</td>\n",
       "      <td>True</td>\n",
       "      <td>127</td>\n",
       "      <td>NaN</td>\n",
       "      <td>1439</td>\n",
       "      <td>105354361</td>\n",
       "      <td>38.857638</td>\n",
       "      <td>-84.626851</td>\n",
       "      <td>2015-02-21 11:35:10.000</td>\n",
       "    </tr>\n",
       "    <tr>\n",
       "      <td>2</td>\n",
       "      <td>3</td>\n",
       "      <td>990364</td>\n",
       "      <td>2015-02-21 11:35:31.000</td>\n",
       "      <td>Incorrect Data Steering Wheel Angle</td>\n",
       "      <td>NaN</td>\n",
       "      <td>unknown</td>\n",
       "      <td>unknown</td>\n",
       "      <td>unknown</td>\n",
       "      <td>unknown</td>\n",
       "      <td>11</td>\n",
       "      <td>1807</td>\n",
       "      <td>2</td>\n",
       "      <td>False</td>\n",
       "      <td>127</td>\n",
       "      <td>NaN</td>\n",
       "      <td>1369</td>\n",
       "      <td>105336226</td>\n",
       "      <td>41.421250</td>\n",
       "      <td>-87.767361</td>\n",
       "      <td>2015-02-21 11:35:26.000</td>\n",
       "    </tr>\n",
       "    <tr>\n",
       "      <td>3</td>\n",
       "      <td>4</td>\n",
       "      <td>990370</td>\n",
       "      <td>2015-02-21 11:35:33.000</td>\n",
       "      <td>Incorrect Data Steering Wheel Angle</td>\n",
       "      <td>NaN</td>\n",
       "      <td>unknown</td>\n",
       "      <td>unknown</td>\n",
       "      <td>unknown</td>\n",
       "      <td>unknown</td>\n",
       "      <td>11</td>\n",
       "      <td>1807</td>\n",
       "      <td>2</td>\n",
       "      <td>True</td>\n",
       "      <td>127</td>\n",
       "      <td>NaN</td>\n",
       "      <td>1369</td>\n",
       "      <td>105336226</td>\n",
       "      <td>41.421018</td>\n",
       "      <td>-87.767361</td>\n",
       "      <td>2015-02-21 11:36:08.000</td>\n",
       "    </tr>\n",
       "    <tr>\n",
       "      <td>4</td>\n",
       "      <td>5</td>\n",
       "      <td>990416</td>\n",
       "      <td>2015-02-21 11:39:41.000</td>\n",
       "      <td>NaN</td>\n",
       "      <td>NaN</td>\n",
       "      <td>22281684P01*22357957P01*22362082P01*</td>\n",
       "      <td>13063430</td>\n",
       "      <td>0USA13_13_0415_2238A</td>\n",
       "      <td>VOLVO</td>\n",
       "      <td>0</td>\n",
       "      <td>4364</td>\n",
       "      <td>17</td>\n",
       "      <td>False</td>\n",
       "      <td>2</td>\n",
       "      <td>NaN</td>\n",
       "      <td>1674</td>\n",
       "      <td>105427130</td>\n",
       "      <td>38.416481</td>\n",
       "      <td>-89.442638</td>\n",
       "      <td>2015-02-21 11:39:37.000</td>\n",
       "    </tr>\n",
       "  </tbody>\n",
       "</table>\n",
       "</div>"
      ],
      "text/plain": [
       "   RecordID  ESS_Id           EventTimeStamp  \\\n",
       "0         1  990349  2015-02-21 10:47:13.000   \n",
       "1         2  990360  2015-02-21 11:34:34.000   \n",
       "2         3  990364  2015-02-21 11:35:31.000   \n",
       "3         4  990370  2015-02-21 11:35:33.000   \n",
       "4         5  990416  2015-02-21 11:39:41.000   \n",
       "\n",
       "                          eventDescription  actionDescription  \\\n",
       "0  Low (Severity Low) Engine Coolant Level                NaN   \n",
       "1                                      NaN                NaN   \n",
       "2      Incorrect Data Steering Wheel Angle                NaN   \n",
       "3      Incorrect Data Steering Wheel Angle                NaN   \n",
       "4                                      NaN                NaN   \n",
       "\n",
       "                     ecuSoftwareVersion ecuSerialNumber              ecuModel  \\\n",
       "0                               unknown         unknown               unknown   \n",
       "1                               unknown         unknown               unknown   \n",
       "2                               unknown         unknown               unknown   \n",
       "3                               unknown         unknown               unknown   \n",
       "4  22281684P01*22357957P01*22362082P01*        13063430  0USA13_13_0415_2238A   \n",
       "\n",
       "   ecuMake  ecuSource   spn  fmi  active  activeTransitionCount  faultValue  \\\n",
       "0  unknown          0   111   17    True                      2         NaN   \n",
       "1  unknown         11   629   12    True                    127         NaN   \n",
       "2  unknown         11  1807    2   False                    127         NaN   \n",
       "3  unknown         11  1807    2    True                    127         NaN   \n",
       "4    VOLVO          0  4364   17   False                      2         NaN   \n",
       "\n",
       "  EquipmentID  MCTNumber   Latitude  Longitude        LocationTimeStamp  \n",
       "0        1439  105354361  38.857638 -84.626851  2015-02-21 11:34:25.000  \n",
       "1        1439  105354361  38.857638 -84.626851  2015-02-21 11:35:10.000  \n",
       "2        1369  105336226  41.421250 -87.767361  2015-02-21 11:35:26.000  \n",
       "3        1369  105336226  41.421018 -87.767361  2015-02-21 11:36:08.000  \n",
       "4        1674  105427130  38.416481 -89.442638  2015-02-21 11:39:37.000  "
      ]
     },
     "execution_count": 35,
     "metadata": {},
     "output_type": "execute_result"
    }
   ],
   "source": [
    "J1939.head()"
   ]
  },
  {
   "cell_type": "code",
   "execution_count": 36,
   "metadata": {},
   "outputs": [],
   "source": [
    "J1939 = J1939.drop(columns = ['actionDescription', 'ecuSoftwareVersion', 'ecuSerialNumber', 'faultValue', 'ecuModel', 'ecuMake'])"
   ]
  },
  {
   "cell_type": "code",
   "execution_count": 37,
   "metadata": {},
   "outputs": [
    {
     "data": {
      "text/html": [
       "<div>\n",
       "<style scoped>\n",
       "    .dataframe tbody tr th:only-of-type {\n",
       "        vertical-align: middle;\n",
       "    }\n",
       "\n",
       "    .dataframe tbody tr th {\n",
       "        vertical-align: top;\n",
       "    }\n",
       "\n",
       "    .dataframe thead th {\n",
       "        text-align: right;\n",
       "    }\n",
       "</style>\n",
       "<table border=\"1\" class=\"dataframe\">\n",
       "  <thead>\n",
       "    <tr style=\"text-align: right;\">\n",
       "      <th></th>\n",
       "      <th>Id</th>\n",
       "      <th>Name</th>\n",
       "      <th>Value</th>\n",
       "      <th>FaultId</th>\n",
       "    </tr>\n",
       "  </thead>\n",
       "  <tbody>\n",
       "    <tr>\n",
       "      <td>0</td>\n",
       "      <td>1</td>\n",
       "      <td>IgnStatus</td>\n",
       "      <td>False</td>\n",
       "      <td>1</td>\n",
       "    </tr>\n",
       "    <tr>\n",
       "      <td>1</td>\n",
       "      <td>2</td>\n",
       "      <td>EngineOilPressure</td>\n",
       "      <td>0</td>\n",
       "      <td>1</td>\n",
       "    </tr>\n",
       "    <tr>\n",
       "      <td>2</td>\n",
       "      <td>3</td>\n",
       "      <td>EngineOilTemperature</td>\n",
       "      <td>96.74375</td>\n",
       "      <td>1</td>\n",
       "    </tr>\n",
       "    <tr>\n",
       "      <td>3</td>\n",
       "      <td>4</td>\n",
       "      <td>TurboBoostPressure</td>\n",
       "      <td>0</td>\n",
       "      <td>1</td>\n",
       "    </tr>\n",
       "    <tr>\n",
       "      <td>4</td>\n",
       "      <td>5</td>\n",
       "      <td>EngineLoad</td>\n",
       "      <td>11</td>\n",
       "      <td>1</td>\n",
       "    </tr>\n",
       "  </tbody>\n",
       "</table>\n",
       "</div>"
      ],
      "text/plain": [
       "   Id                  Name     Value  FaultId\n",
       "0   1             IgnStatus     False        1\n",
       "1   2     EngineOilPressure         0        1\n",
       "2   3  EngineOilTemperature  96.74375        1\n",
       "3   4    TurboBoostPressure         0        1\n",
       "4   5            EngineLoad        11        1"
      ]
     },
     "execution_count": 37,
     "metadata": {},
     "output_type": "execute_result"
    }
   ],
   "source": [
    "vehicle.head()"
   ]
  },
  {
   "cell_type": "code",
   "execution_count": 38,
   "metadata": {},
   "outputs": [],
   "source": [
    "codes = pd.read_excel('data/Service Fault Codes_1_0_0_167.xlsx')"
   ]
  },
  {
   "cell_type": "code",
   "execution_count": 39,
   "metadata": {},
   "outputs": [
    {
     "data": {
      "text/html": [
       "<div>\n",
       "<style scoped>\n",
       "    .dataframe tbody tr th:only-of-type {\n",
       "        vertical-align: middle;\n",
       "    }\n",
       "\n",
       "    .dataframe tbody tr th {\n",
       "        vertical-align: top;\n",
       "    }\n",
       "\n",
       "    .dataframe thead th {\n",
       "        text-align: right;\n",
       "    }\n",
       "</style>\n",
       "<table border=\"1\" class=\"dataframe\">\n",
       "  <thead>\n",
       "    <tr style=\"text-align: right;\">\n",
       "      <th></th>\n",
       "      <th>Published in CES 14602</th>\n",
       "      <th>Cummins Fault Code</th>\n",
       "      <th>Revision</th>\n",
       "      <th>PID</th>\n",
       "      <th>SID</th>\n",
       "      <th>MID</th>\n",
       "      <th>J1587 FMI</th>\n",
       "      <th>SPN</th>\n",
       "      <th>J1939 FMI</th>\n",
       "      <th>J2012 Pcode</th>\n",
       "      <th>Lamp Color</th>\n",
       "      <th>Lamp Device</th>\n",
       "      <th>Cummins Description</th>\n",
       "      <th>Algorithm Description</th>\n",
       "    </tr>\n",
       "  </thead>\n",
       "  <tbody>\n",
       "    <tr>\n",
       "      <td>0</td>\n",
       "      <td>Y</td>\n",
       "      <td>111</td>\n",
       "      <td>167</td>\n",
       "      <td>Not Mapped</td>\n",
       "      <td>254</td>\n",
       "      <td>0</td>\n",
       "      <td>12</td>\n",
       "      <td>629</td>\n",
       "      <td>12</td>\n",
       "      <td>P0606</td>\n",
       "      <td>Red</td>\n",
       "      <td>Stop / Shutdown</td>\n",
       "      <td>Engine Control Module Critical Internal Failur...</td>\n",
       "      <td>Error internal to the ECM related to memory ha...</td>\n",
       "    </tr>\n",
       "    <tr>\n",
       "      <td>1</td>\n",
       "      <td>Y</td>\n",
       "      <td>112</td>\n",
       "      <td>167</td>\n",
       "      <td>Not Mapped</td>\n",
       "      <td>20</td>\n",
       "      <td>128</td>\n",
       "      <td>7</td>\n",
       "      <td>635</td>\n",
       "      <td>7</td>\n",
       "      <td>Not Mapped</td>\n",
       "      <td>Red</td>\n",
       "      <td>Stop / Shutdown</td>\n",
       "      <td>Engine Timing Actuator Driver Circuit - Mechan...</td>\n",
       "      <td>Mechanical failure in the engine timing actuat...</td>\n",
       "    </tr>\n",
       "    <tr>\n",
       "      <td>2</td>\n",
       "      <td>Y</td>\n",
       "      <td>113</td>\n",
       "      <td>167</td>\n",
       "      <td>Not Mapped</td>\n",
       "      <td>20</td>\n",
       "      <td>128</td>\n",
       "      <td>3</td>\n",
       "      <td>635</td>\n",
       "      <td>3</td>\n",
       "      <td>Not Mapped</td>\n",
       "      <td>Amber</td>\n",
       "      <td>Warning</td>\n",
       "      <td>Engine Timing Actuator Driver Circuit - Voltag...</td>\n",
       "      <td>High signal voltage detected at the engine tim...</td>\n",
       "    </tr>\n",
       "    <tr>\n",
       "      <td>3</td>\n",
       "      <td>Y</td>\n",
       "      <td>114</td>\n",
       "      <td>167</td>\n",
       "      <td>Not Mapped</td>\n",
       "      <td>20</td>\n",
       "      <td>128</td>\n",
       "      <td>4</td>\n",
       "      <td>635</td>\n",
       "      <td>4</td>\n",
       "      <td>Not Mapped</td>\n",
       "      <td>Amber</td>\n",
       "      <td>Warning</td>\n",
       "      <td>Engine Timing Actuator Driver Circuit - Voltag...</td>\n",
       "      <td>Low voltage detected at the engine timing actu...</td>\n",
       "    </tr>\n",
       "    <tr>\n",
       "      <td>4</td>\n",
       "      <td>Y</td>\n",
       "      <td>115</td>\n",
       "      <td>167</td>\n",
       "      <td>190</td>\n",
       "      <td>Not Mapped</td>\n",
       "      <td>Not Mapped</td>\n",
       "      <td>2</td>\n",
       "      <td>612</td>\n",
       "      <td>2</td>\n",
       "      <td>P0008</td>\n",
       "      <td>Red</td>\n",
       "      <td>Stop / Shutdown</td>\n",
       "      <td>Engine Magnetic Speed/Position Lost Both of Tw...</td>\n",
       "      <td>The ECM has detected that the primary and back...</td>\n",
       "    </tr>\n",
       "  </tbody>\n",
       "</table>\n",
       "</div>"
      ],
      "text/plain": [
       "  Published in CES 14602  Cummins Fault Code  Revision         PID  \\\n",
       "0                      Y                 111       167  Not Mapped   \n",
       "1                      Y                 112       167  Not Mapped   \n",
       "2                      Y                 113       167  Not Mapped   \n",
       "3                      Y                 114       167  Not Mapped   \n",
       "4                      Y                 115       167         190   \n",
       "\n",
       "          SID         MID  J1587 FMI  SPN  J1939 FMI J2012 Pcode Lamp Color  \\\n",
       "0         254           0         12  629         12       P0606        Red   \n",
       "1          20         128          7  635          7  Not Mapped        Red   \n",
       "2          20         128          3  635          3  Not Mapped      Amber   \n",
       "3          20         128          4  635          4  Not Mapped      Amber   \n",
       "4  Not Mapped  Not Mapped          2  612          2       P0008        Red   \n",
       "\n",
       "       Lamp Device                                Cummins Description  \\\n",
       "0  Stop / Shutdown  Engine Control Module Critical Internal Failur...   \n",
       "1  Stop / Shutdown  Engine Timing Actuator Driver Circuit - Mechan...   \n",
       "2          Warning  Engine Timing Actuator Driver Circuit - Voltag...   \n",
       "3          Warning  Engine Timing Actuator Driver Circuit - Voltag...   \n",
       "4  Stop / Shutdown  Engine Magnetic Speed/Position Lost Both of Tw...   \n",
       "\n",
       "                               Algorithm Description  \n",
       "0  Error internal to the ECM related to memory ha...  \n",
       "1  Mechanical failure in the engine timing actuat...  \n",
       "2  High signal voltage detected at the engine tim...  \n",
       "3  Low voltage detected at the engine timing actu...  \n",
       "4  The ECM has detected that the primary and back...  "
      ]
     },
     "execution_count": 39,
     "metadata": {},
     "output_type": "execute_result"
    }
   ],
   "source": [
    "codes.head()"
   ]
  },
  {
   "cell_type": "code",
   "execution_count": null,
   "metadata": {},
   "outputs": [],
   "source": [
    "codes.drop(columns = ['Published in CES 14602'])"
   ]
  },
  {
   "cell_type": "code",
   "execution_count": 40,
   "metadata": {},
   "outputs": [],
   "source": [
    "\n",
    "# merge on RecordID and FaultId\n"
   ]
  },
  {
   "cell_type": "code",
   "execution_count": 41,
   "metadata": {},
   "outputs": [],
   "source": [
    "# SPN 5246 is bad "
   ]
  },
  {
   "cell_type": "code",
   "execution_count": 42,
   "metadata": {},
   "outputs": [],
   "source": [
    "faults_onboard = pd.merge(left = J1939, right = vehicle, left_on = 'RecordID', right_on = 'FaultId', how = 'inner')"
   ]
  },
  {
   "cell_type": "code",
   "execution_count": 43,
   "metadata": {},
   "outputs": [
    {
     "data": {
      "text/html": [
       "<div>\n",
       "<style scoped>\n",
       "    .dataframe tbody tr th:only-of-type {\n",
       "        vertical-align: middle;\n",
       "    }\n",
       "\n",
       "    .dataframe tbody tr th {\n",
       "        vertical-align: top;\n",
       "    }\n",
       "\n",
       "    .dataframe thead th {\n",
       "        text-align: right;\n",
       "    }\n",
       "</style>\n",
       "<table border=\"1\" class=\"dataframe\">\n",
       "  <thead>\n",
       "    <tr style=\"text-align: right;\">\n",
       "      <th></th>\n",
       "      <th>RecordID</th>\n",
       "      <th>ESS_Id</th>\n",
       "      <th>EventTimeStamp</th>\n",
       "      <th>eventDescription</th>\n",
       "      <th>ecuSource</th>\n",
       "      <th>spn</th>\n",
       "      <th>fmi</th>\n",
       "      <th>active</th>\n",
       "      <th>activeTransitionCount</th>\n",
       "      <th>EquipmentID</th>\n",
       "      <th>MCTNumber</th>\n",
       "      <th>Latitude</th>\n",
       "      <th>Longitude</th>\n",
       "      <th>LocationTimeStamp</th>\n",
       "      <th>Id</th>\n",
       "      <th>Name</th>\n",
       "      <th>Value</th>\n",
       "      <th>FaultId</th>\n",
       "    </tr>\n",
       "  </thead>\n",
       "  <tbody>\n",
       "    <tr>\n",
       "      <td>0</td>\n",
       "      <td>1</td>\n",
       "      <td>990349</td>\n",
       "      <td>2015-02-21 10:47:13.000</td>\n",
       "      <td>Low (Severity Low) Engine Coolant Level</td>\n",
       "      <td>0</td>\n",
       "      <td>111</td>\n",
       "      <td>17</td>\n",
       "      <td>True</td>\n",
       "      <td>2</td>\n",
       "      <td>1439</td>\n",
       "      <td>105354361</td>\n",
       "      <td>38.857638</td>\n",
       "      <td>-84.626851</td>\n",
       "      <td>2015-02-21 11:34:25.000</td>\n",
       "      <td>1</td>\n",
       "      <td>IgnStatus</td>\n",
       "      <td>False</td>\n",
       "      <td>1</td>\n",
       "    </tr>\n",
       "    <tr>\n",
       "      <td>1</td>\n",
       "      <td>1</td>\n",
       "      <td>990349</td>\n",
       "      <td>2015-02-21 10:47:13.000</td>\n",
       "      <td>Low (Severity Low) Engine Coolant Level</td>\n",
       "      <td>0</td>\n",
       "      <td>111</td>\n",
       "      <td>17</td>\n",
       "      <td>True</td>\n",
       "      <td>2</td>\n",
       "      <td>1439</td>\n",
       "      <td>105354361</td>\n",
       "      <td>38.857638</td>\n",
       "      <td>-84.626851</td>\n",
       "      <td>2015-02-21 11:34:25.000</td>\n",
       "      <td>2</td>\n",
       "      <td>EngineOilPressure</td>\n",
       "      <td>0</td>\n",
       "      <td>1</td>\n",
       "    </tr>\n",
       "    <tr>\n",
       "      <td>2</td>\n",
       "      <td>1</td>\n",
       "      <td>990349</td>\n",
       "      <td>2015-02-21 10:47:13.000</td>\n",
       "      <td>Low (Severity Low) Engine Coolant Level</td>\n",
       "      <td>0</td>\n",
       "      <td>111</td>\n",
       "      <td>17</td>\n",
       "      <td>True</td>\n",
       "      <td>2</td>\n",
       "      <td>1439</td>\n",
       "      <td>105354361</td>\n",
       "      <td>38.857638</td>\n",
       "      <td>-84.626851</td>\n",
       "      <td>2015-02-21 11:34:25.000</td>\n",
       "      <td>3</td>\n",
       "      <td>EngineOilTemperature</td>\n",
       "      <td>96.74375</td>\n",
       "      <td>1</td>\n",
       "    </tr>\n",
       "    <tr>\n",
       "      <td>3</td>\n",
       "      <td>1</td>\n",
       "      <td>990349</td>\n",
       "      <td>2015-02-21 10:47:13.000</td>\n",
       "      <td>Low (Severity Low) Engine Coolant Level</td>\n",
       "      <td>0</td>\n",
       "      <td>111</td>\n",
       "      <td>17</td>\n",
       "      <td>True</td>\n",
       "      <td>2</td>\n",
       "      <td>1439</td>\n",
       "      <td>105354361</td>\n",
       "      <td>38.857638</td>\n",
       "      <td>-84.626851</td>\n",
       "      <td>2015-02-21 11:34:25.000</td>\n",
       "      <td>4</td>\n",
       "      <td>TurboBoostPressure</td>\n",
       "      <td>0</td>\n",
       "      <td>1</td>\n",
       "    </tr>\n",
       "    <tr>\n",
       "      <td>4</td>\n",
       "      <td>1</td>\n",
       "      <td>990349</td>\n",
       "      <td>2015-02-21 10:47:13.000</td>\n",
       "      <td>Low (Severity Low) Engine Coolant Level</td>\n",
       "      <td>0</td>\n",
       "      <td>111</td>\n",
       "      <td>17</td>\n",
       "      <td>True</td>\n",
       "      <td>2</td>\n",
       "      <td>1439</td>\n",
       "      <td>105354361</td>\n",
       "      <td>38.857638</td>\n",
       "      <td>-84.626851</td>\n",
       "      <td>2015-02-21 11:34:25.000</td>\n",
       "      <td>5</td>\n",
       "      <td>EngineLoad</td>\n",
       "      <td>11</td>\n",
       "      <td>1</td>\n",
       "    </tr>\n",
       "  </tbody>\n",
       "</table>\n",
       "</div>"
      ],
      "text/plain": [
       "   RecordID  ESS_Id           EventTimeStamp  \\\n",
       "0         1  990349  2015-02-21 10:47:13.000   \n",
       "1         1  990349  2015-02-21 10:47:13.000   \n",
       "2         1  990349  2015-02-21 10:47:13.000   \n",
       "3         1  990349  2015-02-21 10:47:13.000   \n",
       "4         1  990349  2015-02-21 10:47:13.000   \n",
       "\n",
       "                          eventDescription  ecuSource  spn  fmi  active  \\\n",
       "0  Low (Severity Low) Engine Coolant Level          0  111   17    True   \n",
       "1  Low (Severity Low) Engine Coolant Level          0  111   17    True   \n",
       "2  Low (Severity Low) Engine Coolant Level          0  111   17    True   \n",
       "3  Low (Severity Low) Engine Coolant Level          0  111   17    True   \n",
       "4  Low (Severity Low) Engine Coolant Level          0  111   17    True   \n",
       "\n",
       "   activeTransitionCount EquipmentID  MCTNumber   Latitude  Longitude  \\\n",
       "0                      2        1439  105354361  38.857638 -84.626851   \n",
       "1                      2        1439  105354361  38.857638 -84.626851   \n",
       "2                      2        1439  105354361  38.857638 -84.626851   \n",
       "3                      2        1439  105354361  38.857638 -84.626851   \n",
       "4                      2        1439  105354361  38.857638 -84.626851   \n",
       "\n",
       "         LocationTimeStamp  Id                  Name     Value  FaultId  \n",
       "0  2015-02-21 11:34:25.000   1             IgnStatus     False        1  \n",
       "1  2015-02-21 11:34:25.000   2     EngineOilPressure         0        1  \n",
       "2  2015-02-21 11:34:25.000   3  EngineOilTemperature  96.74375        1  \n",
       "3  2015-02-21 11:34:25.000   4    TurboBoostPressure         0        1  \n",
       "4  2015-02-21 11:34:25.000   5            EngineLoad        11        1  "
      ]
     },
     "execution_count": 43,
     "metadata": {},
     "output_type": "execute_result"
    }
   ],
   "source": [
    "faults_onboard.head()"
   ]
  },
  {
   "cell_type": "code",
   "execution_count": 44,
   "metadata": {},
   "outputs": [
    {
     "data": {
      "text/plain": [
       "(12821626, 18)"
      ]
     },
     "execution_count": 44,
     "metadata": {},
     "output_type": "execute_result"
    }
   ],
   "source": [
    "faults_onboard.shape"
   ]
  },
  {
   "cell_type": "code",
   "execution_count": 45,
   "metadata": {},
   "outputs": [],
   "source": [
    "# filter down to failure rates and get truck ids and then we can try to make a function \n",
    "# to figure out what the codes were right before the failure \n",
    "# filter the SPNs and get the equipment ID "
   ]
  },
  {
   "cell_type": "code",
   "execution_count": 76,
   "metadata": {},
   "outputs": [
    {
     "data": {
      "text/plain": [
       "array(['1721', '1515', '1630', '1395', '1487', '1499', '1329', '1365',\n",
       "       '1419', '1486', '1509', '1492', '1340', '1328', '1430', '1370',\n",
       "       '1497', '1350', '1608', '1606', '1612', '1354', '1493', '1583',\n",
       "       '1465', '1335', '1789', 1340, 1383, 1389, 1501, 1335, 1438, 1463,\n",
       "       1606, 1514, 1666, 1689, 1692, 1357, 1396, 310, 1602, 1660, 1445,\n",
       "       1431, 105393153, 1327, 1795, 1399, 1494, 1367, 1364, 1452, 1595,\n",
       "       1740, 1366, 1339, 1425, 1358, 1646, 1391, 1428, 1338, 1637, 1346,\n",
       "       1490, 1562, 1433, 1663, 1417, 1424, 1771, 1790, 1591, 1797, 1596,\n",
       "       1421, 1444, 1480, 1493, 1466, 1457, 105360462, 1794, 1492, 1696,\n",
       "       1703, 1626, 1715, 1437, 1453, 1584, 1597, 1610, 1377, 1652,\n",
       "       105411041, 1517, 1784, 1751, 1786, 1590, 1341, 1382, 1714, 1430,\n",
       "       1711, 1369, 1398, 1791, 1772, 1472, 1473, 1418, 1645, 1475, 1815,\n",
       "       1806, 1607, 1560, 1450, 1401, 1572, 1630, 1375, 1368, 1650, 1443,\n",
       "       1495, 1670, 1587, 1778, 1566, 1789, 1617, 1691, 1573, 1477, 1476,\n",
       "       1395, 1441, 1405, 1577, 1447, 1659, 1408, 1439, 1403, 1458, 1668,\n",
       "       1814, 1567, 1583, 1373, 1446, 1700, 1629, 1730, 1665, 1381, 1551,\n",
       "       1413, 1643, 1508, 1440, 1486, 1455, 1844, 1571, 1429, 1491, 1803,\n",
       "       1467, 1378, 1608, 1488, 1739, 1448, 1420, 1384, 1683, 1372, 1502,\n",
       "       1582, 1464, 1599, 1712, 1407, 1603, 1644, 1757, 1618, 1604, 1519,\n",
       "       1831, 1631, 1811, 1628, 1818, 1423, 1636, 1555, 1719, 1638, 1710,\n",
       "       1823, 1435, 1808, 1392, 1669, 1649, 1579, 1416, 1575, 1397, 1510,\n",
       "       1813, 1601, 1419, 1657, 1621, 1651, 1620, 105359197, 1708, 1592,\n",
       "       1613, 1619, 1925, 1887, 1662, 1640, 1881, 1563, 1713, 1557, 1839,\n",
       "       1833, 1605, 1513, 1639, 1866, 1485, 1581, 1549, 1776, 308, 1586,\n",
       "       1661, 1635, 1907, 1853, 1785, 1594, 1859, 1600, 1963, 1848, 1918,\n",
       "       1561, 1796, 1624, 105338352, 1598, 1972, 1706, 1641, 1874, 1940,\n",
       "       1609, 1642, 1506, 1552, 1685, 1883, 1946, 1913, 1920, 1634, 1995,\n",
       "       1512, 1878, 1564, 1686, 1554, 1505, 1802, 1612, 1788, 1868, 1807,\n",
       "       1688, 1922, 1903, 1681, 1904, 1615, 1828, 1694, 1559, 1827, 1842,\n",
       "       1720, 1970, 1877, 1888, 1989, 1932, 1804, 1854, 1851, 1565, 1981,\n",
       "       1741, 1980, 1737, 1580, 1924, 1822, 1766, 1812, 1917, 1933, 1817,\n",
       "       1654, 1731, 2017, 2008, 1726, 1717, 1656, 1835, 1664, 1880, 1916,\n",
       "       1996, 1912, 1947, 1997, 1736, 1820, 1729, 1864, 1556, 1898, 1884,\n",
       "       1832, 1705, 1585, 1908, 1752, 1623, 1800, 1732, 1725, 1845, 1876,\n",
       "       1576, 1897, 1647, 1931, 1971, 1852, 1697, 1959, 1953, 1787, 1962,\n",
       "       1893, 2015, 2019, 1957, 1593, 1965, 1873, 1911, 1934, 1942, 1982,\n",
       "       1900, 2009, 1948, 1723, 2006, 1956, 2012, 1836, 1935, 307, 1879,\n",
       "       1792, 1865, 1885, 1690, 1793, 1860, 1894, 1856, 1704, 1614, 1655,\n",
       "       1667, 1632, 1699, 1687, 1625, 1871, 1750, 1611, 2013, 1939, 1886,\n",
       "       1999, 1819, 1901, 1821, 1847, 1701, 1588, 1838, 1849, 1775, 1743,\n",
       "       1952, 1988, 1716, 1862, 2011, 1863, 1622, 2004, 1764, 1905, 1698,\n",
       "       1846, 309, 1798, 1780, 1762, 1979, 2007, 1919, 1966, 1843, 1938,\n",
       "       105427203, 1744, 1992, 1976, 1926, 1718, 1899, '1965', '1978',\n",
       "       '1874', '1932', '1689', '1792', '1763', '1870', '1725', '1935',\n",
       "       '1843', '1996', '1963', '1712', '1731', '1889', '1794', '1726',\n",
       "       '1691', '1897', '1920', '105349576', '1715', '310', '1942', '1845',\n",
       "       '1729', '1823', '1690', '1994', '1901', '2027', '1967', '1706',\n",
       "       '1962', '1947', '1798', '1928', '1946', '1885', '1716', '1921',\n",
       "       '1775', '1860', '1891', '1790', '1734', '1945', '1878', '1877',\n",
       "       '1952', '1972', '1849', '1717', '2010', '306', 306, 1951, 1768,\n",
       "       1781, 1763, 2002, 1728, 1721, 1869, 1735, 1964, 1858, 1758, 1958,\n",
       "       2120, 1756, 1944, 105344451, 1927, 2005, 1889, 1709, 1914, 2020,\n",
       "       1872, 1975, 1857, 1733, 2010, 1734, 1961, 1954, 1985, 1824,\n",
       "       105349576, 1993, 1895, 1906, 2018, 1977, 1834, 1930, 1928, 1969,\n",
       "       1991, 1994, 1984, 1967, 1949, 1896, 1891, 1950, 1855, 2000, 1986,\n",
       "       1945, 1782, 1937, 2021, 1943, 1968, 1909, 1829, 1861], dtype=object)"
      ]
     },
     "execution_count": 76,
     "metadata": {},
     "output_type": "execute_result"
    }
   ],
   "source": [
    "df1569 = faults_onboard[faults_onboard['spn'] == 1569]\n",
    "df1569.EquipmentID.unique()"
   ]
  },
  {
   "cell_type": "code",
   "execution_count": 53,
   "metadata": {},
   "outputs": [
    {
     "data": {
      "text/plain": [
       "(114321, 18)"
      ]
     },
     "execution_count": 53,
     "metadata": {},
     "output_type": "execute_result"
    }
   ],
   "source": [
    "df1569.shape"
   ]
  },
  {
   "cell_type": "code",
   "execution_count": 54,
   "metadata": {},
   "outputs": [
    {
     "data": {
      "text/plain": [
       "(114321, 18)"
      ]
     },
     "execution_count": 54,
     "metadata": {},
     "output_type": "execute_result"
    }
   ],
   "source": [
    "df1569[df1569['fmi'] == 31].shape"
   ]
  },
  {
   "cell_type": "code",
   "execution_count": 30,
   "metadata": {},
   "outputs": [
    {
     "data": {
      "text/plain": [
       "111      3790692\n",
       "929      2894878\n",
       "96       1084835\n",
       "829      1039706\n",
       "639       455666\n",
       "          ...   \n",
       "5395          19\n",
       "32000         14\n",
       "76339         10\n",
       "3828           8\n",
       "1846           5\n",
       "Name: spn, Length: 450, dtype: int64"
      ]
     },
     "execution_count": 30,
     "metadata": {},
     "output_type": "execute_result"
    }
   ],
   "source": [
    "faults_onboard.spn.value_counts()"
   ]
  },
  {
   "cell_type": "code",
   "execution_count": 50,
   "metadata": {},
   "outputs": [
    {
     "data": {
      "text/plain": [
       "1927"
      ]
     },
     "execution_count": 50,
     "metadata": {},
     "output_type": "execute_result"
    }
   ],
   "source": [
    "faults_onboard.EquipmentID.nunique()"
   ]
  },
  {
   "cell_type": "code",
   "execution_count": 58,
   "metadata": {},
   "outputs": [
    {
     "data": {
      "text/plain": [
       "1692         227280\n",
       "1641         192769\n",
       "1646         167035\n",
       "1618         166978\n",
       "1605         163010\n",
       "              ...  \n",
       "105393087         1\n",
       "2208              1\n",
       "105340140         1\n",
       "105355660         1\n",
       "105411231         1\n",
       "Name: EquipmentID, Length: 1927, dtype: int64"
      ]
     },
     "execution_count": 58,
     "metadata": {},
     "output_type": "execute_result"
    }
   ],
   "source": [
    "faults_onboard.EquipmentID.value_countscounts()"
   ]
  },
  {
   "cell_type": "code",
   "execution_count": 59,
   "metadata": {},
   "outputs": [
    {
     "data": {
      "text/plain": [
       "1490         3814\n",
       "1505         2567\n",
       "1444         2311\n",
       "1758         2024\n",
       "1445         1965\n",
       "             ... \n",
       "105360462       2\n",
       "1335            1\n",
       "1549            1\n",
       "105359197       1\n",
       "1965            1\n",
       "Name: EquipmentID, Length: 573, dtype: int64"
      ]
     },
     "execution_count": 59,
     "metadata": {},
     "output_type": "execute_result"
    }
   ],
   "source": [
    "df1569.EquipmentID.value_counts()"
   ]
  },
  {
   "cell_type": "code",
   "execution_count": 60,
   "metadata": {},
   "outputs": [
    {
     "data": {
      "text/plain": [
       "'2000-03-19 14:02:34.000'"
      ]
     },
     "execution_count": 60,
     "metadata": {},
     "output_type": "execute_result"
    }
   ],
   "source": [
    "df1569.EventTimeStamp.min()"
   ]
  },
  {
   "cell_type": "code",
   "execution_count": 61,
   "metadata": {},
   "outputs": [
    {
     "data": {
      "text/plain": [
       "'2020-03-06 14:04:23.000'"
      ]
     },
     "execution_count": 61,
     "metadata": {},
     "output_type": "execute_result"
    }
   ],
   "source": [
    "df1569.EventTimeStamp.max()"
   ]
  },
  {
   "cell_type": "code",
   "execution_count": 62,
   "metadata": {},
   "outputs": [
    {
     "data": {
      "text/plain": [
       "'2000-03-18 19:14:10.000'"
      ]
     },
     "execution_count": 62,
     "metadata": {},
     "output_type": "execute_result"
    }
   ],
   "source": [
    "faults_onboard.EventTimeStamp.min()"
   ]
  },
  {
   "cell_type": "code",
   "execution_count": null,
   "metadata": {},
   "outputs": [],
   "source": [
    "df1569.groupby('EquipmentID')\n",
    "\n",
    "\n",
    "if spn ==. , look at EqId, get it, bring in the other rows "
   ]
  },
  {
   "cell_type": "code",
   "execution_count": 67,
   "metadata": {},
   "outputs": [
    {
     "data": {
      "text/html": [
       "<div>\n",
       "<style scoped>\n",
       "    .dataframe tbody tr th:only-of-type {\n",
       "        vertical-align: middle;\n",
       "    }\n",
       "\n",
       "    .dataframe tbody tr th {\n",
       "        vertical-align: top;\n",
       "    }\n",
       "\n",
       "    .dataframe thead th {\n",
       "        text-align: right;\n",
       "    }\n",
       "</style>\n",
       "<table border=\"1\" class=\"dataframe\">\n",
       "  <thead>\n",
       "    <tr style=\"text-align: right;\">\n",
       "      <th></th>\n",
       "      <th>RecordID</th>\n",
       "      <th>ESS_Id</th>\n",
       "      <th>EventTimeStamp</th>\n",
       "      <th>eventDescription</th>\n",
       "      <th>ecuSource</th>\n",
       "      <th>spn</th>\n",
       "      <th>fmi</th>\n",
       "      <th>active</th>\n",
       "      <th>activeTransitionCount</th>\n",
       "      <th>EquipmentID</th>\n",
       "      <th>MCTNumber</th>\n",
       "      <th>Latitude</th>\n",
       "      <th>Longitude</th>\n",
       "      <th>LocationTimeStamp</th>\n",
       "      <th>Id</th>\n",
       "      <th>Name</th>\n",
       "      <th>Value</th>\n",
       "      <th>FaultId</th>\n",
       "    </tr>\n",
       "  </thead>\n",
       "  <tbody>\n",
       "  </tbody>\n",
       "</table>\n",
       "</div>"
      ],
      "text/plain": [
       "Empty DataFrame\n",
       "Columns: [RecordID, ESS_Id, EventTimeStamp, eventDescription, ecuSource, spn, fmi, active, activeTransitionCount, EquipmentID, MCTNumber, Latitude, Longitude, LocationTimeStamp, Id, Name, Value, FaultId]\n",
       "Index: []"
      ]
     },
     "execution_count": 67,
     "metadata": {},
     "output_type": "execute_result"
    }
   ],
   "source": [
    "dfbadcodes = faults_onboard[faults_onboard['spn'] == 1569|5246]\n",
    "dfbadcodes.head()"
   ]
  },
  {
   "cell_type": "code",
   "execution_count": 78,
   "metadata": {},
   "outputs": [
    {
     "ename": "SyntaxError",
     "evalue": "invalid syntax (<ipython-input-78-428cbcdb837b>, line 5)",
     "output_type": "error",
     "traceback": [
      "\u001b[0;36m  File \u001b[0;32m\"<ipython-input-78-428cbcdb837b>\"\u001b[0;36m, line \u001b[0;32m5\u001b[0m\n\u001b[0;31m    if group.isin(1569|5246)\u001b[0m\n\u001b[0m                            ^\u001b[0m\n\u001b[0;31mSyntaxError\u001b[0m\u001b[0;31m:\u001b[0m invalid syntax\n"
     ]
    }
   ],
   "source": [
    "for x in range: \n",
    "    group = faults_onboard[faults_onboard.EquipmentID == x]\n",
    "    \n",
    "    def prev_code(): \n",
    "        if faults_onboard.spn.isin([1569|5246])\n",
    "        \n",
    "        return group.spn.index -1"
   ]
  },
  {
   "cell_type": "code",
   "execution_count": 86,
   "metadata": {},
   "outputs": [
    {
     "ename": "TypeError",
     "evalue": "'type' object cannot be interpreted as an integer",
     "output_type": "error",
     "traceback": [
      "\u001b[0;31m---------------------------------------------------------------------------\u001b[0m",
      "\u001b[0;31mTypeError\u001b[0m                                 Traceback (most recent call last)",
      "\u001b[0;32m<ipython-input-86-205d44887363>\u001b[0m in \u001b[0;36m<module>\u001b[0;34m\u001b[0m\n\u001b[0;32m----> 1\u001b[0;31m \u001b[0;32mfor\u001b[0m \u001b[0mx\u001b[0m \u001b[0;32min\u001b[0m \u001b[0mrange\u001b[0m\u001b[0;34m(\u001b[0m\u001b[0mobject\u001b[0m\u001b[0;34m)\u001b[0m\u001b[0;34m:\u001b[0m\u001b[0;34m\u001b[0m\u001b[0;34m\u001b[0m\u001b[0m\n\u001b[0m\u001b[1;32m      2\u001b[0m     \u001b[0mgroup\u001b[0m \u001b[0;34m=\u001b[0m \u001b[0mfaults_onboard\u001b[0m\u001b[0;34m[\u001b[0m\u001b[0mfaults_onboard\u001b[0m\u001b[0;34m.\u001b[0m\u001b[0mEquipmentID\u001b[0m \u001b[0;34m==\u001b[0m \u001b[0mx\u001b[0m\u001b[0;34m]\u001b[0m\u001b[0;34m\u001b[0m\u001b[0;34m\u001b[0m\u001b[0m\n",
      "\u001b[0;31mTypeError\u001b[0m: 'type' object cannot be interpreted as an integer"
     ]
    }
   ],
   "source": [
    "for x in range(object): \n",
    "    group = faults_onboard[faults_onboard.EquipmentID == x]"
   ]
  },
  {
   "cell_type": "code",
   "execution_count": 82,
   "metadata": {},
   "outputs": [
    {
     "data": {
      "text/plain": [
       "dtype('O')"
      ]
     },
     "execution_count": 82,
     "metadata": {},
     "output_type": "execute_result"
    }
   ],
   "source": [
    "faults_onboard.EquipmentID.dtype"
   ]
  },
  {
   "cell_type": "code",
   "execution_count": 90,
   "metadata": {},
   "outputs": [
    {
     "ename": "SyntaxError",
     "evalue": "unexpected EOF while parsing (<ipython-input-90-5e96c0e74f9f>, line 1)",
     "output_type": "error",
     "traceback": [
      "\u001b[0;36m  File \u001b[0;32m\"<ipython-input-90-5e96c0e74f9f>\"\u001b[0;36m, line \u001b[0;32m1\u001b[0m\n\u001b[0;31m    faults_onboard[faults_onboard['EquipmentID'].contains('R')\u001b[0m\n\u001b[0m                                                              ^\u001b[0m\n\u001b[0;31mSyntaxError\u001b[0m\u001b[0;31m:\u001b[0m unexpected EOF while parsing\n"
     ]
    }
   ],
   "source": [
    "faults_onboard[faults_onboard['EquipmentID'].contains('R')"
   ]
  },
  {
   "cell_type": "code",
   "execution_count": null,
   "metadata": {},
   "outputs": [],
   "source": []
  }
 ],
 "metadata": {
  "kernelspec": {
   "display_name": "Python 3",
   "language": "python",
   "name": "python3"
  },
  "language_info": {
   "codemirror_mode": {
    "name": "ipython",
    "version": 3
   },
   "file_extension": ".py",
   "mimetype": "text/x-python",
   "name": "python",
   "nbconvert_exporter": "python",
   "pygments_lexer": "ipython3",
   "version": "3.7.4"
  }
 },
 "nbformat": 4,
 "nbformat_minor": 2
}
